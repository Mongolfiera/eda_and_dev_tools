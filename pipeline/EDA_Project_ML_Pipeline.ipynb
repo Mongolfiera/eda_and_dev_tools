{
 "cells": [
  {
   "cell_type": "markdown",
   "id": "e74ad44f-d1c1-4c5f-9111-aca033540fce",
   "metadata": {},
   "source": [
    "# Проект\n",
    "\n",
    "## [(dataset Shoppers)](https://github.com/aiedu-courses/eda_and_dev_tools/blob/main/datasets/online_shoppers_intention.csv)\n",
    "\n",
    "## [Online Shoppers Purchasing Intention Dataset](https://github.com/aiedu-courses/eda_and_dev_tools/tree/main/datasets#readme)\n",
    "\n",
    "The **Revenue** attribute can be used as the class label.\n",
    "\n",
    "**Administrative, Administrative Duration, Informational, Informational Duration, Product Related and Product Related Duration** represent the number of different types of pages visited by the visitor in that session and total time spent in each of these page categories. The values of these features are derived from the URL information of the pages visited by the user and updated in real time when a user takes an action, e.g. moving from one page to another.\n",
    "\n",
    "The **Bounce Rate, Exit Rate and Page Value** features represent the metrics measured by \"Google Analytics\" for each page in the e-commerce site. The value of Bounce Rate feature for a web page refers to the percentage of visitors who enter the site from that page and then leave (\"bounce\") without triggering any other requests to the analytics server during that session. The value of \"Exit Rate\" feature for a specific web page is calculated as for all pageviews to the page, the percentage that were the last in the session. The Page Value feature represents the average value for a web page that a user visited before completing an e-commerce transaction.\n",
    "\n",
    "The **Special Day** feature indicates the closeness of the site visiting time to a specific special day (e.g. Mother’s Day, Valentine's Day) in which the sessions are more likely to be finalized with transaction. The value of this attribute is determined by considering the dynamics of e-commerce such as the duration between the order date and delivery date. For example, for Valentina’s day, this value takes a nonzero value between February 2 and February 12, zero before and after this date unless it is close to another special day, and its maximum value of 1 on February 8.\n",
    "\n",
    "The dataset also includes **operating system, browser, region, traffic type, visitor type** as returning or new visitor, a Boolean value indicating whether the date of the visit is **weekend**, and **month of the year**.\n",
    "\n",
    "--------------\n",
    "**Bounce Rate** — это метрика, которая измеряет процент посетителей, покинувших сайт после просмотра только одной страницы, не совершая никаких действий (например, перехода на другую страницу или заполнения формы) 23. Высокий показатель отказов может указывать на то, что пользователи не находят нужную информацию или не заинтересованы в контенте сайта.\n",
    "\n",
    "Для разных типов сайтов существуют свои нормы показателя отказов. Например, для интернет-магазинов нормальным считается уровень от 10% до 40%, в то время как для новостных сайтов — до 60% 12. Показатели выше 70% могут указывать на необходимость серьезного анализа и оптимизации сайта.\n",
    "\n",
    "Причины высокого Bounce Rate:\n",
    "- Нерелевантный контент или плохое качество информации.\n",
    "- Долгая загрузка страниц или технические неполадки.\n",
    "- Неудобный интерфейс или сложная навигация.\n",
    "- Неправильные настройки рекламы, приводящие на сайт нецелевых пользователей\n",
    "\n",
    "**Exit Rate** — это метрика, которая измеряет процент пользователей, покинувших сайт с определенной страницы, по отношению к общему количеству просмотров этой страницы. Это отличается от показателя отказов (Bounce Rate), который фиксирует процент пользователей, покинувших сайт после просмотра только одной страницы.\n",
    "\n",
    "Как и в случае с Bounce Rate, для разных типов сайтов существуют свои нормы Exit Rate. Например, для интернет-магазинов нормальным считается уровень от 20% до 40%, в то время как для информационных сайтов этот показатель может быть выше.\n",
    "\n",
    "Причины высокого Exit Rate:\n",
    "- Нерелевантный или некачественный контент на странице.\n",
    "- Технические проблемы или медленная загрузка страницы.\n",
    "- Плохая навигация или отсутствие ясных призывов к действию.\n",
    "- Успешное завершение задачи (например, завершение покупки).\n",
    "\n",
    "**Page Value** — это метрика, которая измеряет среднюю ценность страницы для завершения транзакции на сайте. Она рассчитывается на основе дохода, полученного от пользователей, которые посетили эту страницу перед завершением покупки. Page Value помогает понять, какие страницы наиболее эффективны в привлечении дохода.\n",
    "\n",
    "Page Value может варьироваться в зависимости от типа контента и его роли в процессе покупки. Например, страницы с продуктами обычно имеют более высокий Page Value, чем информационные страницы.\n",
    "\n",
    "Причины высокого Page Value:\n",
    "- Страницы с высококачественным контентом, который привлекает пользователей и побуждает их к покупке.\n",
    "- Эффективные призывы к действию и навигация, которые направляют пользователей к завершению транзакции.\n",
    "- Страницы, которые обеспечивают пользователям необходимую информацию о продукте или услуге.\n",
    "\n",
    "### Additional Information\n",
    "\n",
    "The dataset consists of feature vectors belonging to 12,330 sessions. \n",
    "The dataset was formed so that each session would belong to a different user in a 1-year period to avoid any tendency to a specific campaign, special day, user profile, or period. \n",
    "\n",
    "*[original dataset](https://archive.ics.uci.edu/dataset/468/online+shoppers+purchasing+intention+dataset)*\n",
    "\n",
    "## II. Пайплайн проекта. Построение интерактивных дашбордов\n"
   ]
  },
  {
   "cell_type": "markdown",
   "id": "cb007a53-37e6-4d16-800c-aa7e59c7c511",
   "metadata": {},
   "source": [
    "### В рамках этой части задания ответьте в ноутбуке на следующие вопросы:\n",
    "\n",
    "- Построение моделей на числовых признаках (минимум - NB и kNN, максимум - любые) с параметрами по умолчанию, вычисление метрик + комментарий о качестве моделей (1 балл).\n",
    "- Подбор гиперпараметров у каждой из моделей (только на числовых признаках) при помощи GridSearchCV + вычисление метрик для лучших найденных моделей + текстовый комментарий (3 балла).\n",
    "- Добавление категориальных признаков в лучшую модель, обучение модели и заново подбор ее гиперпараметров + вычисление метрик + текстовый комментарий (2 балла).\n",
    "- Построение Explainer Dashboard и сохранение файла с ним на GitHub (1 балл)\n",
    "- Анализ модели в Explainer Dashboard (выводы пишем в том же Jupyter Notebook):\n",
    "- какие факторы наиболее важны в среднем для получения прогноза? (1 балл)\n",
    "- какие значения метрик получились и что это значит? (1 балл)\n",
    "- анализ 2-3 индивидуальных прогнозов с комментарием (1 балл)\n",
    "\n",
    "ВАЖНО\n",
    "Кроме непосредственно кода в ноутбуке не забывайте делать выводы текстом!\n",
    "Выводы - самая важная часть исследования"
   ]
  },
  {
   "cell_type": "code",
   "execution_count": null,
   "id": "40c7193e-e791-4d68-a3e9-853b320cc9f7",
   "metadata": {},
   "outputs": [],
   "source": [
    "# !pip install explainerdashboard -q"
   ]
  },
  {
   "cell_type": "markdown",
   "id": "416ad1da-cf62-43d4-a8af-e43d7a7f6141",
   "metadata": {},
   "source": [
    "# Импорт библиотек и загрузка данных"
   ]
  },
  {
   "cell_type": "code",
   "execution_count": 1,
   "id": "c8668890-a500-4c9b-9b3c-09cbcdc7f7a6",
   "metadata": {},
   "outputs": [],
   "source": [
    "import numpy as np\n",
    "import pandas as pd\n",
    "\n",
    "import matplotlib.pyplot as plt\n",
    "import seaborn as sns\n",
    "\n",
    "import association_metrics as am\n",
    "from scipy.stats import f_oneway\n"
   ]
  },
  {
   "cell_type": "code",
   "execution_count": 2,
   "id": "ab2d84c8-f2de-4750-81f2-65fb912f41dc",
   "metadata": {},
   "outputs": [
    {
     "data": {
      "text/plain": [
       "(12330, 18)"
      ]
     },
     "execution_count": 2,
     "metadata": {},
     "output_type": "execute_result"
    }
   ],
   "source": [
    "url = \"https://raw.githubusercontent.com/aiedu-courses/eda_and_dev_tools/refs/heads/main/datasets/online_shoppers_intention.csv\"\n",
    "df = pd.read_csv(url)\n",
    "\n",
    "df.shape"
   ]
  },
  {
   "cell_type": "code",
   "execution_count": 3,
   "id": "b93680b9-6575-4b91-a86a-7e65d337354e",
   "metadata": {},
   "outputs": [
    {
     "data": {
      "text/html": [
       "<div>\n",
       "<style scoped>\n",
       "    .dataframe tbody tr th:only-of-type {\n",
       "        vertical-align: middle;\n",
       "    }\n",
       "\n",
       "    .dataframe tbody tr th {\n",
       "        vertical-align: top;\n",
       "    }\n",
       "\n",
       "    .dataframe thead th {\n",
       "        text-align: right;\n",
       "    }\n",
       "</style>\n",
       "<table border=\"1\" class=\"dataframe\">\n",
       "  <thead>\n",
       "    <tr style=\"text-align: right;\">\n",
       "      <th></th>\n",
       "      <th>Administrative</th>\n",
       "      <th>Administrative_Duration</th>\n",
       "      <th>Informational</th>\n",
       "      <th>Informational_Duration</th>\n",
       "      <th>ProductRelated</th>\n",
       "      <th>ProductRelated_Duration</th>\n",
       "      <th>BounceRates</th>\n",
       "      <th>ExitRates</th>\n",
       "      <th>PageValues</th>\n",
       "      <th>SpecialDay</th>\n",
       "      <th>Month</th>\n",
       "      <th>OperatingSystems</th>\n",
       "      <th>Browser</th>\n",
       "      <th>Region</th>\n",
       "      <th>TrafficType</th>\n",
       "      <th>VisitorType</th>\n",
       "      <th>Weekend</th>\n",
       "      <th>Revenue</th>\n",
       "    </tr>\n",
       "  </thead>\n",
       "  <tbody>\n",
       "    <tr>\n",
       "      <th>2234</th>\n",
       "      <td>5</td>\n",
       "      <td>69.0</td>\n",
       "      <td>4</td>\n",
       "      <td>163.0</td>\n",
       "      <td>50</td>\n",
       "      <td>2424.750000</td>\n",
       "      <td>0.000000</td>\n",
       "      <td>0.023333</td>\n",
       "      <td>2.973214</td>\n",
       "      <td>0.0</td>\n",
       "      <td>May</td>\n",
       "      <td>2</td>\n",
       "      <td>2</td>\n",
       "      <td>3</td>\n",
       "      <td>3</td>\n",
       "      <td>Returning_Visitor</td>\n",
       "      <td>False</td>\n",
       "      <td>False</td>\n",
       "    </tr>\n",
       "    <tr>\n",
       "      <th>6635</th>\n",
       "      <td>2</td>\n",
       "      <td>55.4</td>\n",
       "      <td>2</td>\n",
       "      <td>96.8</td>\n",
       "      <td>26</td>\n",
       "      <td>600.573333</td>\n",
       "      <td>0.013793</td>\n",
       "      <td>0.022414</td>\n",
       "      <td>2.812474</td>\n",
       "      <td>0.0</td>\n",
       "      <td>Aug</td>\n",
       "      <td>2</td>\n",
       "      <td>2</td>\n",
       "      <td>1</td>\n",
       "      <td>2</td>\n",
       "      <td>Returning_Visitor</td>\n",
       "      <td>False</td>\n",
       "      <td>False</td>\n",
       "    </tr>\n",
       "    <tr>\n",
       "      <th>11112</th>\n",
       "      <td>0</td>\n",
       "      <td>0.0</td>\n",
       "      <td>4</td>\n",
       "      <td>14.0</td>\n",
       "      <td>8</td>\n",
       "      <td>284.700000</td>\n",
       "      <td>0.016667</td>\n",
       "      <td>0.047222</td>\n",
       "      <td>0.000000</td>\n",
       "      <td>0.0</td>\n",
       "      <td>Nov</td>\n",
       "      <td>3</td>\n",
       "      <td>2</td>\n",
       "      <td>7</td>\n",
       "      <td>2</td>\n",
       "      <td>Returning_Visitor</td>\n",
       "      <td>False</td>\n",
       "      <td>True</td>\n",
       "    </tr>\n",
       "    <tr>\n",
       "      <th>6038</th>\n",
       "      <td>6</td>\n",
       "      <td>91.2</td>\n",
       "      <td>1</td>\n",
       "      <td>69.6</td>\n",
       "      <td>29</td>\n",
       "      <td>1618.233333</td>\n",
       "      <td>0.000000</td>\n",
       "      <td>0.016208</td>\n",
       "      <td>9.231935</td>\n",
       "      <td>0.0</td>\n",
       "      <td>Nov</td>\n",
       "      <td>2</td>\n",
       "      <td>2</td>\n",
       "      <td>1</td>\n",
       "      <td>6</td>\n",
       "      <td>Returning_Visitor</td>\n",
       "      <td>False</td>\n",
       "      <td>False</td>\n",
       "    </tr>\n",
       "    <tr>\n",
       "      <th>9284</th>\n",
       "      <td>0</td>\n",
       "      <td>0.0</td>\n",
       "      <td>1</td>\n",
       "      <td>10.0</td>\n",
       "      <td>88</td>\n",
       "      <td>2366.192105</td>\n",
       "      <td>0.012472</td>\n",
       "      <td>0.030501</td>\n",
       "      <td>0.000000</td>\n",
       "      <td>0.0</td>\n",
       "      <td>Nov</td>\n",
       "      <td>2</td>\n",
       "      <td>4</td>\n",
       "      <td>7</td>\n",
       "      <td>1</td>\n",
       "      <td>Returning_Visitor</td>\n",
       "      <td>False</td>\n",
       "      <td>False</td>\n",
       "    </tr>\n",
       "  </tbody>\n",
       "</table>\n",
       "</div>"
      ],
      "text/plain": [
       "       Administrative  Administrative_Duration  Informational  \\\n",
       "2234                5                     69.0              4   \n",
       "6635                2                     55.4              2   \n",
       "11112               0                      0.0              4   \n",
       "6038                6                     91.2              1   \n",
       "9284                0                      0.0              1   \n",
       "\n",
       "       Informational_Duration  ProductRelated  ProductRelated_Duration  \\\n",
       "2234                    163.0              50              2424.750000   \n",
       "6635                     96.8              26               600.573333   \n",
       "11112                    14.0               8               284.700000   \n",
       "6038                     69.6              29              1618.233333   \n",
       "9284                     10.0              88              2366.192105   \n",
       "\n",
       "       BounceRates  ExitRates  PageValues  SpecialDay Month  OperatingSystems  \\\n",
       "2234      0.000000   0.023333    2.973214         0.0   May                 2   \n",
       "6635      0.013793   0.022414    2.812474         0.0   Aug                 2   \n",
       "11112     0.016667   0.047222    0.000000         0.0   Nov                 3   \n",
       "6038      0.000000   0.016208    9.231935         0.0   Nov                 2   \n",
       "9284      0.012472   0.030501    0.000000         0.0   Nov                 2   \n",
       "\n",
       "       Browser  Region  TrafficType        VisitorType  Weekend  Revenue  \n",
       "2234         2       3            3  Returning_Visitor    False    False  \n",
       "6635         2       1            2  Returning_Visitor    False    False  \n",
       "11112        2       7            2  Returning_Visitor    False     True  \n",
       "6038         2       1            6  Returning_Visitor    False    False  \n",
       "9284         4       7            1  Returning_Visitor    False    False  "
      ]
     },
     "execution_count": 3,
     "metadata": {},
     "output_type": "execute_result"
    }
   ],
   "source": [
    "df.sample(5)"
   ]
  },
  {
   "cell_type": "markdown",
   "id": "d6f95576-ba11-4902-ae57-4f1f30224c3b",
   "metadata": {},
   "source": [
    "## Заполним пропуски и удалим дубликаты"
   ]
  },
  {
   "cell_type": "code",
   "execution_count": 5,
   "id": "6ee24014-1b02-40f7-a85f-791d422da471",
   "metadata": {},
   "outputs": [
    {
     "data": {
      "text/plain": [
       "(12221, 18)"
      ]
     },
     "execution_count": 5,
     "metadata": {},
     "output_type": "execute_result"
    }
   ],
   "source": [
    "# удалим дубликаты\n",
    "\n",
    "df.drop_duplicates(inplace=True)\n",
    "\n",
    "df.shape"
   ]
  },
  {
   "cell_type": "code",
   "execution_count": 6,
   "id": "be270559-35d4-4639-92a7-aeafb571b239",
   "metadata": {},
   "outputs": [],
   "source": [
    "# Заполним пропуски во времени посещения страниц - разобьем по количеству просмотренных страниц и возьмем медиану для каждой такой группы, \n",
    "# оставшиеся заполним медианой по всем данным\n",
    "\n",
    "def fill_missing_with_median(df, group_col, target_col):\n",
    "    # Группируем по количеству просмотренных страниц и вычисляем медиану\n",
    "    median_values = df[(df[group_col]>0)&(df[target_col].notnull())].groupby(group_col)[target_col].median()\n",
    "    \n",
    "    # Заполняем пропуски в целевом столбце медианными значениями по группам\n",
    "    for group_value in median_values.index:\n",
    "        df.loc[(df[group_col] == group_value) & (df[target_col].isna()), target_col] = median_values[group_value]\n",
    "        \n",
    "    # Для нулевых значений посещения страниц время на страницах заполним нулями\n",
    "    df.loc[(df[group_col] == 0) & (df[target_col].isna()), target_col] = 0\n",
    "    \n",
    "    # Оставшиеся пропуски заполним медианными значениями по всем данным\n",
    "    df.loc[df[target_col].isna(), target_col] = df[target_col].median()\n",
    "\n",
    "# Заполнение пропусков для Informational_Duration\n",
    "fill_missing_with_median(df, 'Informational', 'Informational_Duration')\n",
    "\n",
    "# Заполнение пропусков для ProductRelated_Duration\n",
    "fill_missing_with_median(df, 'ProductRelated', 'ProductRelated_Duration')"
   ]
  },
  {
   "cell_type": "code",
   "execution_count": 7,
   "id": "bb653104-4367-445d-a357-84a2f7763b8f",
   "metadata": {},
   "outputs": [
    {
     "data": {
      "text/plain": [
       "0.025"
      ]
     },
     "execution_count": 7,
     "metadata": {},
     "output_type": "execute_result"
    }
   ],
   "source": [
    "# пропуски в ExitRates заполним медианой\n",
    "\n",
    "ExitRates_median = df[df[\"ExitRates\"].notnull()][\"ExitRates\"].median()\n",
    "\n",
    "df.loc[(df[\"ExitRates\"].isna()), \"ExitRates\"] = ExitRates_median\n",
    "\n",
    "df[df[\"ExitRates\"].notnull()][\"ExitRates\"].median()"
   ]
  },
  {
   "cell_type": "code",
   "execution_count": 8,
   "id": "8aaf469a-63bd-42c5-ad35-580d6ed43b45",
   "metadata": {},
   "outputs": [],
   "source": [
    "# Согласно описанию, \"VisitorType\" может принимать только 2 занчения. Заменим \"Other\" на \"Returning_Visitor\"\n",
    "\n",
    "df.loc[df[\"VisitorType\"]==\"Other\", \"VisitorType\"] = \"Returning_Visitor\""
   ]
  },
  {
   "cell_type": "code",
   "execution_count": 10,
   "id": "0238bdd0-83c4-4391-9ab1-7ff2e3a21f61",
   "metadata": {},
   "outputs": [],
   "source": [
    "# В месяцах есть \"aug\" и 'Aug' - поправим\n",
    "\n",
    "df.loc[df[\"Month\"]==\"aug\", \"Month\"] = \"Aug\""
   ]
  },
  {
   "cell_type": "code",
   "execution_count": 11,
   "id": "5d9265eb-4613-4669-b73e-f4a461e7a6ef",
   "metadata": {},
   "outputs": [],
   "source": [
    "# Заменим типы у булевых переменных\n",
    "\n",
    "df['Revenue'] = df['Revenue'].astype(int)\n",
    "df['Weekend'] = df['Weekend'].astype(int)"
   ]
  },
  {
   "cell_type": "code",
   "execution_count": 13,
   "id": "a9fa56f8-9b57-4335-b13c-9daabd18ba7f",
   "metadata": {},
   "outputs": [
    {
     "name": "stdout",
     "output_type": "stream",
     "text": [
      "<class 'pandas.core.frame.DataFrame'>\n",
      "Index: 12221 entries, 0 to 12329\n",
      "Data columns (total 18 columns):\n",
      " #   Column                   Non-Null Count  Dtype  \n",
      "---  ------                   --------------  -----  \n",
      " 0   Administrative           12221 non-null  int64  \n",
      " 1   Administrative_Duration  12221 non-null  float64\n",
      " 2   Informational            12221 non-null  int64  \n",
      " 3   Informational_Duration   12221 non-null  float64\n",
      " 4   ProductRelated           12221 non-null  int64  \n",
      " 5   ProductRelated_Duration  12221 non-null  float64\n",
      " 6   BounceRates              12221 non-null  float64\n",
      " 7   ExitRates                12221 non-null  float64\n",
      " 8   PageValues               12221 non-null  float64\n",
      " 9   SpecialDay               12221 non-null  float64\n",
      " 10  Month                    12221 non-null  object \n",
      " 11  OperatingSystems         12221 non-null  int64  \n",
      " 12  Browser                  12221 non-null  int64  \n",
      " 13  Region                   12221 non-null  int64  \n",
      " 14  TrafficType              12221 non-null  int64  \n",
      " 15  VisitorType              12221 non-null  object \n",
      " 16  Weekend                  12221 non-null  int32  \n",
      " 17  Revenue                  12221 non-null  int32  \n",
      "dtypes: float64(7), int32(2), int64(7), object(2)\n",
      "memory usage: 1.7+ MB\n"
     ]
    }
   ],
   "source": [
    "df.info()"
   ]
  },
  {
   "cell_type": "code",
   "execution_count": 22,
   "id": "561c5632-a44f-4ef8-9636-a57e0d4b20eb",
   "metadata": {},
   "outputs": [
    {
     "data": {
      "text/html": [
       "<div>\n",
       "<style scoped>\n",
       "    .dataframe tbody tr th:only-of-type {\n",
       "        vertical-align: middle;\n",
       "    }\n",
       "\n",
       "    .dataframe tbody tr th {\n",
       "        vertical-align: top;\n",
       "    }\n",
       "\n",
       "    .dataframe thead th {\n",
       "        text-align: right;\n",
       "    }\n",
       "</style>\n",
       "<table border=\"1\" class=\"dataframe\">\n",
       "  <thead>\n",
       "    <tr style=\"text-align: right;\">\n",
       "      <th></th>\n",
       "      <th>Administrative</th>\n",
       "      <th>Administrative_Duration</th>\n",
       "      <th>Informational</th>\n",
       "      <th>Informational_Duration</th>\n",
       "      <th>ProductRelated</th>\n",
       "      <th>ProductRelated_Duration</th>\n",
       "      <th>BounceRates</th>\n",
       "      <th>ExitRates</th>\n",
       "      <th>PageValues</th>\n",
       "      <th>SpecialDay</th>\n",
       "      <th>Month</th>\n",
       "      <th>OperatingSystems</th>\n",
       "      <th>Browser</th>\n",
       "      <th>Region</th>\n",
       "      <th>TrafficType</th>\n",
       "      <th>VisitorType</th>\n",
       "      <th>Weekend</th>\n",
       "      <th>Revenue</th>\n",
       "    </tr>\n",
       "  </thead>\n",
       "  <tbody>\n",
       "    <tr>\n",
       "      <th>0</th>\n",
       "      <td>0</td>\n",
       "      <td>0.0</td>\n",
       "      <td>0</td>\n",
       "      <td>0.0</td>\n",
       "      <td>1</td>\n",
       "      <td>0.000000</td>\n",
       "      <td>0.20</td>\n",
       "      <td>0.20</td>\n",
       "      <td>0.0</td>\n",
       "      <td>0.0</td>\n",
       "      <td>Feb</td>\n",
       "      <td>1</td>\n",
       "      <td>1</td>\n",
       "      <td>1</td>\n",
       "      <td>1</td>\n",
       "      <td>Returning_Visitor</td>\n",
       "      <td>0</td>\n",
       "      <td>0</td>\n",
       "    </tr>\n",
       "    <tr>\n",
       "      <th>1</th>\n",
       "      <td>0</td>\n",
       "      <td>0.0</td>\n",
       "      <td>0</td>\n",
       "      <td>0.0</td>\n",
       "      <td>2</td>\n",
       "      <td>64.000000</td>\n",
       "      <td>0.00</td>\n",
       "      <td>0.10</td>\n",
       "      <td>0.0</td>\n",
       "      <td>0.0</td>\n",
       "      <td>Feb</td>\n",
       "      <td>2</td>\n",
       "      <td>2</td>\n",
       "      <td>1</td>\n",
       "      <td>2</td>\n",
       "      <td>Returning_Visitor</td>\n",
       "      <td>0</td>\n",
       "      <td>0</td>\n",
       "    </tr>\n",
       "    <tr>\n",
       "      <th>2</th>\n",
       "      <td>0</td>\n",
       "      <td>0.0</td>\n",
       "      <td>0</td>\n",
       "      <td>0.0</td>\n",
       "      <td>1</td>\n",
       "      <td>0.000000</td>\n",
       "      <td>0.20</td>\n",
       "      <td>0.20</td>\n",
       "      <td>0.0</td>\n",
       "      <td>0.0</td>\n",
       "      <td>Feb</td>\n",
       "      <td>4</td>\n",
       "      <td>1</td>\n",
       "      <td>9</td>\n",
       "      <td>3</td>\n",
       "      <td>Returning_Visitor</td>\n",
       "      <td>0</td>\n",
       "      <td>0</td>\n",
       "    </tr>\n",
       "    <tr>\n",
       "      <th>3</th>\n",
       "      <td>0</td>\n",
       "      <td>0.0</td>\n",
       "      <td>0</td>\n",
       "      <td>0.0</td>\n",
       "      <td>2</td>\n",
       "      <td>2.666667</td>\n",
       "      <td>0.05</td>\n",
       "      <td>0.14</td>\n",
       "      <td>0.0</td>\n",
       "      <td>0.0</td>\n",
       "      <td>Feb</td>\n",
       "      <td>3</td>\n",
       "      <td>2</td>\n",
       "      <td>2</td>\n",
       "      <td>4</td>\n",
       "      <td>Returning_Visitor</td>\n",
       "      <td>0</td>\n",
       "      <td>0</td>\n",
       "    </tr>\n",
       "    <tr>\n",
       "      <th>4</th>\n",
       "      <td>0</td>\n",
       "      <td>0.0</td>\n",
       "      <td>0</td>\n",
       "      <td>0.0</td>\n",
       "      <td>10</td>\n",
       "      <td>627.500000</td>\n",
       "      <td>0.02</td>\n",
       "      <td>0.05</td>\n",
       "      <td>0.0</td>\n",
       "      <td>0.0</td>\n",
       "      <td>Feb</td>\n",
       "      <td>3</td>\n",
       "      <td>3</td>\n",
       "      <td>1</td>\n",
       "      <td>4</td>\n",
       "      <td>Returning_Visitor</td>\n",
       "      <td>1</td>\n",
       "      <td>0</td>\n",
       "    </tr>\n",
       "  </tbody>\n",
       "</table>\n",
       "</div>"
      ],
      "text/plain": [
       "   Administrative  Administrative_Duration  Informational  \\\n",
       "0               0                      0.0              0   \n",
       "1               0                      0.0              0   \n",
       "2               0                      0.0              0   \n",
       "3               0                      0.0              0   \n",
       "4               0                      0.0              0   \n",
       "\n",
       "   Informational_Duration  ProductRelated  ProductRelated_Duration  \\\n",
       "0                     0.0               1                 0.000000   \n",
       "1                     0.0               2                64.000000   \n",
       "2                     0.0               1                 0.000000   \n",
       "3                     0.0               2                 2.666667   \n",
       "4                     0.0              10               627.500000   \n",
       "\n",
       "   BounceRates  ExitRates  PageValues  SpecialDay Month  OperatingSystems  \\\n",
       "0         0.20       0.20         0.0         0.0   Feb                 1   \n",
       "1         0.00       0.10         0.0         0.0   Feb                 2   \n",
       "2         0.20       0.20         0.0         0.0   Feb                 4   \n",
       "3         0.05       0.14         0.0         0.0   Feb                 3   \n",
       "4         0.02       0.05         0.0         0.0   Feb                 3   \n",
       "\n",
       "   Browser  Region  TrafficType        VisitorType  Weekend  Revenue  \n",
       "0        1       1            1  Returning_Visitor        0        0  \n",
       "1        2       1            2  Returning_Visitor        0        0  \n",
       "2        1       9            3  Returning_Visitor        0        0  \n",
       "3        2       2            4  Returning_Visitor        0        0  \n",
       "4        3       1            4  Returning_Visitor        1        0  "
      ]
     },
     "execution_count": 22,
     "metadata": {},
     "output_type": "execute_result"
    }
   ],
   "source": [
    "df.head()"
   ]
  },
  {
   "cell_type": "markdown",
   "id": "5128dc2b-1dd8-4da7-8896-0fcadcb04410",
   "metadata": {},
   "source": [
    "# 1. Построение моделей на числовых признаках с параметрами по умолчанию\n",
    "(минимум - NB и kNN, максимум - любые), вычисление метрик + комментарий о качестве моделей"
   ]
  },
  {
   "cell_type": "markdown",
   "id": "1008aa42-90ee-425f-86f7-d5b684767e2d",
   "metadata": {},
   "source": [
    "# Наивный байесовский классификатор"
   ]
  },
  {
   "cell_type": "code",
   "execution_count": 26,
   "id": "98802b9c-1897-43fd-a8c1-6dbee37e8ad8",
   "metadata": {},
   "outputs": [
    {
     "data": {
      "text/plain": [
       "(0.15612470337942885,\n",
       " Revenue\n",
       " 0    10313\n",
       " 1     1908\n",
       " Name: count, dtype: int64)"
      ]
     },
     "execution_count": 26,
     "metadata": {},
     "output_type": "execute_result"
    }
   ],
   "source": [
    "X = df.drop(columns=['Revenue', 'Month', 'VisitorType', 'OperatingSystems', 'Browser', 'Region', 'TrafficType', 'SpecialDay', 'Weekend']) # оставим только числовые признаки\n",
    "y = df['Revenue']\n",
    "\n",
    "y.mean(), y.value_counts()"
   ]
  },
  {
   "cell_type": "code",
   "execution_count": 28,
   "id": "bda368e3-0c3c-4a6e-a573-1f29f94b89d4",
   "metadata": {},
   "outputs": [
    {
     "name": "stdout",
     "output_type": "stream",
     "text": [
      "<class 'pandas.core.frame.DataFrame'>\n",
      "Index: 12221 entries, 0 to 12329\n",
      "Data columns (total 9 columns):\n",
      " #   Column                   Non-Null Count  Dtype  \n",
      "---  ------                   --------------  -----  \n",
      " 0   Administrative           12221 non-null  int64  \n",
      " 1   Administrative_Duration  12221 non-null  float64\n",
      " 2   Informational            12221 non-null  int64  \n",
      " 3   Informational_Duration   12221 non-null  float64\n",
      " 4   ProductRelated           12221 non-null  int64  \n",
      " 5   ProductRelated_Duration  12221 non-null  float64\n",
      " 6   BounceRates              12221 non-null  float64\n",
      " 7   ExitRates                12221 non-null  float64\n",
      " 8   PageValues               12221 non-null  float64\n",
      "dtypes: float64(6), int64(3)\n",
      "memory usage: 954.8 KB\n"
     ]
    }
   ],
   "source": [
    "X.info()"
   ]
  },
  {
   "cell_type": "code",
   "execution_count": 30,
   "id": "5a911bd4-1da3-4239-960d-fb44d0e1e1d5",
   "metadata": {},
   "outputs": [],
   "source": [
    "from sklearn.model_selection import train_test_split\n",
    "\n",
    "X_train, X_test, y_train, y_test = train_test_split(X, y, test_size=0.25, random_state=42)"
   ]
  },
  {
   "cell_type": "code",
   "execution_count": 32,
   "id": "adaacb73-4603-44e9-9297-451f8419515d",
   "metadata": {},
   "outputs": [
    {
     "data": {
      "text/plain": [
       "Revenue\n",
       "0    2583\n",
       "1     473\n",
       "Name: count, dtype: int64"
      ]
     },
     "execution_count": 32,
     "metadata": {},
     "output_type": "execute_result"
    }
   ],
   "source": [
    "y_test.value_counts()"
   ]
  },
  {
   "cell_type": "code",
   "execution_count": 34,
   "id": "36b1fd0c-0f44-4c5c-b4e6-47100b97f54a",
   "metadata": {},
   "outputs": [],
   "source": [
    "from sklearn.naive_bayes import MultinomialNB\n",
    "\n",
    "mnb = MultinomialNB()\n",
    "\n",
    "mnb.fit(X_train, y_train)\n",
    "\n",
    "y_pred = mnb.predict(X_test)"
   ]
  },
  {
   "cell_type": "code",
   "execution_count": 36,
   "id": "d15f8243-7105-4dde-afce-1db5e34fc727",
   "metadata": {},
   "outputs": [
    {
     "data": {
      "text/plain": [
       "0.868455497382199"
      ]
     },
     "execution_count": 36,
     "metadata": {},
     "output_type": "execute_result"
    }
   ],
   "source": [
    "from sklearn.metrics import accuracy_score\n",
    "\n",
    "accuracy_score(y_test, y_pred)"
   ]
  },
  {
   "cell_type": "code",
   "execution_count": 38,
   "id": "4c9b452b-8ad4-4924-a7f4-e7456d5d91da",
   "metadata": {},
   "outputs": [
    {
     "data": {
      "text/plain": [
       "array([[2381,  202],\n",
       "       [ 200,  273]], dtype=int64)"
      ]
     },
     "execution_count": 38,
     "metadata": {},
     "output_type": "execute_result"
    }
   ],
   "source": [
    "from sklearn.metrics import confusion_matrix\n",
    "\n",
    "confusion_matrix(y_test, y_pred)"
   ]
  },
  {
   "cell_type": "code",
   "execution_count": 40,
   "id": "6ebf7fee-e207-4d1e-a64d-a355700c75b6",
   "metadata": {},
   "outputs": [
    {
     "data": {
      "text/plain": [
       "(0.5759493670886077, 0.5747368421052632, 0.5771670190274841)"
      ]
     },
     "execution_count": 40,
     "metadata": {},
     "output_type": "execute_result"
    }
   ],
   "source": [
    "from sklearn.metrics import f1_score, precision_score, recall_score\n",
    "f1_score(y_test, y_pred), precision_score(y_test, y_pred), recall_score(y_test, y_pred)"
   ]
  },
  {
   "cell_type": "code",
   "execution_count": 42,
   "id": "2753e959-8868-4452-98b5-21d8ce778aa9",
   "metadata": {},
   "outputs": [
    {
     "data": {
      "text/plain": [
       "(0.8724281157644949,\n",
       " 0.5924379440519603,\n",
       " 0.5874514145438711,\n",
       " 0.5985791043135315)"
      ]
     },
     "execution_count": 42,
     "metadata": {},
     "output_type": "execute_result"
    }
   ],
   "source": [
    "from sklearn.model_selection import cross_validate\n",
    "\n",
    "cv = cross_validate(mnb, X, y, scoring=['accuracy', 'f1', 'precision', 'recall'], cv=5, n_jobs=-1)\n",
    "cv['test_accuracy'].mean(), cv['test_f1'].mean(), cv['test_precision'].mean(), cv['test_recall'].mean()"
   ]
  },
  {
   "cell_type": "markdown",
   "id": "c684a9b8-dbb4-4a21-a6a3-2f0d0834eca1",
   "metadata": {},
   "source": [
    "## Выводы\n",
    "\n",
    "Несмотря на то, что модель показывает доволько высокое значение accuracy (0.87), из-за того, что классы целевой переменной в исходных данных не сбалансированы, она плохо предсказывает положительные классы.\n",
    "\n",
    "На это указывают метрики \n",
    "- Точность (Precision) (0.57) - из объектов, определенных моделью как положительные только 57% действительно являются положительными\n",
    "- Полнота (Recall) (0.58) - модель смогла определить только 58% положительных объектов\n",
    "- F1-мера (F1 Score) (0.58) - мера, учитывающая и точность и полноту.\n",
    "\n",
    "По матрице ошибок также видно, что модель выдала 202 ложноположительных предсказаний (предсказала положительный класс там, где он не является положительным) и 200 ложноотрицательных предсказаний (не смогла определить истинный положительный класс)\n",
    "\n",
    "Т.о., можно сделать вывод о том, что модель не очень хорошо умеет правильно классифицировать положительные случаи."
   ]
  },
  {
   "cell_type": "markdown",
   "id": "f51833e5-56b9-448b-acb9-da8f3366ca4d",
   "metadata": {},
   "source": [
    "# KNN"
   ]
  },
  {
   "cell_type": "code",
   "execution_count": 45,
   "id": "28a2aec4-b5f6-4658-9877-62019ad8dd16",
   "metadata": {},
   "outputs": [],
   "source": [
    "from sklearn.neighbors import KNeighborsClassifier\n",
    "\n",
    "knn_cl = KNeighborsClassifier()\n",
    "\n",
    "knn_cl.fit(X_train, y_train)\n",
    "\n",
    "pred_knn = knn_cl.predict(X_test)"
   ]
  },
  {
   "cell_type": "code",
   "execution_count": 46,
   "id": "db8997a5-c594-4bfa-8f49-fdef3e7070c0",
   "metadata": {},
   "outputs": [
    {
     "data": {
      "text/plain": [
       "0.8576570680628273"
      ]
     },
     "execution_count": 46,
     "metadata": {},
     "output_type": "execute_result"
    }
   ],
   "source": [
    "accuracy_score(y_test, pred_knn)"
   ]
  },
  {
   "cell_type": "code",
   "execution_count": 47,
   "id": "b85137ff-f4fe-4796-aaf9-84f7cb4b3386",
   "metadata": {},
   "outputs": [
    {
     "data": {
      "text/plain": [
       "array([[2486,   97],\n",
       "       [ 338,  135]], dtype=int64)"
      ]
     },
     "execution_count": 47,
     "metadata": {},
     "output_type": "execute_result"
    }
   ],
   "source": [
    "confusion_matrix(y_test, pred_knn)"
   ]
  },
  {
   "cell_type": "code",
   "execution_count": 48,
   "id": "a24a194b-c46a-4ed0-b428-0e8cf57c2de8",
   "metadata": {},
   "outputs": [
    {
     "data": {
      "text/plain": [
       "(0.3829787234042553, 0.5818965517241379, 0.2854122621564482)"
      ]
     },
     "execution_count": 48,
     "metadata": {},
     "output_type": "execute_result"
    }
   ],
   "source": [
    "f1_score(y_test, pred_knn), precision_score(y_test, pred_knn), recall_score(y_test, pred_knn)"
   ]
  },
  {
   "cell_type": "code",
   "execution_count": 54,
   "id": "a8bb2ee1-3c55-4b23-8480-7585d1f8e525",
   "metadata": {},
   "outputs": [
    {
     "data": {
      "text/plain": [
       "(0.8568024526489479,\n",
       " 0.38721310100983636,\n",
       " 0.5817290442630594,\n",
       " 0.29091396297975847)"
      ]
     },
     "execution_count": 54,
     "metadata": {},
     "output_type": "execute_result"
    }
   ],
   "source": [
    "cv = cross_validate(knn_cl, X, y, scoring=['accuracy', 'f1', 'precision', 'recall'], cv=5, n_jobs=-1)\n",
    "cv['test_accuracy'].mean(), cv['test_f1'].mean(), cv['test_precision'].mean(), cv['test_recall'].mean()"
   ]
  },
  {
   "cell_type": "markdown",
   "id": "691bca80-862f-4e13-8a86-dee01919384d",
   "metadata": {},
   "source": [
    "## Выводы\n",
    "\n",
    "Accuracy модели KNN немного ниже (0.86), но положительные классы она предсказывает значительно хуже NBC.\n",
    "\n",
    "На это указывают метрики \n",
    "- Точность (Precision) (0.58) - из объектов, определенных моделью как положительные только 58% действительно являются положительными\n",
    "- Полнота (Recall) (0.29) - модель смогла определить только 29% положительных объектов\n",
    "- F1-мера (F1 Score) (0.38) - мера, учитывающая и точность и полноту.\n",
    "\n",
    "По матрице ошибок видно, что модель выдала 97 ложноположительных предсказаний (предсказала положительный класс там, где он не является положительным) и 338 ложноотрицательных предсказаний (не смогла определить истинный положительный класс) - т.е. из 473 объектов с положительным классом модель пропустила 338 (отсюда низкий показатель полноты).\n",
    "На кросс валидации получились похожие метрики.\n",
    "\n",
    "Т.о., можно сделать вывод о том, что модель KNN тоже не очень хорошо умеет правильно классифицировать положительные случаи."
   ]
  },
  {
   "cell_type": "markdown",
   "id": "b7486517-8ce7-4961-b83d-fb8d773900f3",
   "metadata": {},
   "source": [
    "# 2. Подбор гиперпараметров у каждой из моделей (только на числовых признаках) при помощи GridSearchCV \n",
    "+ вычисление метрик для лучших найденных моделей + текстовый комментарий "
   ]
  },
  {
   "cell_type": "code",
   "execution_count": 58,
   "id": "06162ed1-4c5f-424e-84d8-7643910288c6",
   "metadata": {},
   "outputs": [
    {
     "name": "stdout",
     "output_type": "stream",
     "text": [
      "Fitting 3 folds for each of 40 candidates, totalling 120 fits\n"
     ]
    },
    {
     "data": {
      "text/html": [
       "<style>#sk-container-id-1 {color: black;}#sk-container-id-1 pre{padding: 0;}#sk-container-id-1 div.sk-toggleable {background-color: white;}#sk-container-id-1 label.sk-toggleable__label {cursor: pointer;display: block;width: 100%;margin-bottom: 0;padding: 0.3em;box-sizing: border-box;text-align: center;}#sk-container-id-1 label.sk-toggleable__label-arrow:before {content: \"▸\";float: left;margin-right: 0.25em;color: #696969;}#sk-container-id-1 label.sk-toggleable__label-arrow:hover:before {color: black;}#sk-container-id-1 div.sk-estimator:hover label.sk-toggleable__label-arrow:before {color: black;}#sk-container-id-1 div.sk-toggleable__content {max-height: 0;max-width: 0;overflow: hidden;text-align: left;background-color: #f0f8ff;}#sk-container-id-1 div.sk-toggleable__content pre {margin: 0.2em;color: black;border-radius: 0.25em;background-color: #f0f8ff;}#sk-container-id-1 input.sk-toggleable__control:checked~div.sk-toggleable__content {max-height: 200px;max-width: 100%;overflow: auto;}#sk-container-id-1 input.sk-toggleable__control:checked~label.sk-toggleable__label-arrow:before {content: \"▾\";}#sk-container-id-1 div.sk-estimator input.sk-toggleable__control:checked~label.sk-toggleable__label {background-color: #d4ebff;}#sk-container-id-1 div.sk-label input.sk-toggleable__control:checked~label.sk-toggleable__label {background-color: #d4ebff;}#sk-container-id-1 input.sk-hidden--visually {border: 0;clip: rect(1px 1px 1px 1px);clip: rect(1px, 1px, 1px, 1px);height: 1px;margin: -1px;overflow: hidden;padding: 0;position: absolute;width: 1px;}#sk-container-id-1 div.sk-estimator {font-family: monospace;background-color: #f0f8ff;border: 1px dotted black;border-radius: 0.25em;box-sizing: border-box;margin-bottom: 0.5em;}#sk-container-id-1 div.sk-estimator:hover {background-color: #d4ebff;}#sk-container-id-1 div.sk-parallel-item::after {content: \"\";width: 100%;border-bottom: 1px solid gray;flex-grow: 1;}#sk-container-id-1 div.sk-label:hover label.sk-toggleable__label {background-color: #d4ebff;}#sk-container-id-1 div.sk-serial::before {content: \"\";position: absolute;border-left: 1px solid gray;box-sizing: border-box;top: 0;bottom: 0;left: 50%;z-index: 0;}#sk-container-id-1 div.sk-serial {display: flex;flex-direction: column;align-items: center;background-color: white;padding-right: 0.2em;padding-left: 0.2em;position: relative;}#sk-container-id-1 div.sk-item {position: relative;z-index: 1;}#sk-container-id-1 div.sk-parallel {display: flex;align-items: stretch;justify-content: center;background-color: white;position: relative;}#sk-container-id-1 div.sk-item::before, #sk-container-id-1 div.sk-parallel-item::before {content: \"\";position: absolute;border-left: 1px solid gray;box-sizing: border-box;top: 0;bottom: 0;left: 50%;z-index: -1;}#sk-container-id-1 div.sk-parallel-item {display: flex;flex-direction: column;z-index: 1;position: relative;background-color: white;}#sk-container-id-1 div.sk-parallel-item:first-child::after {align-self: flex-end;width: 50%;}#sk-container-id-1 div.sk-parallel-item:last-child::after {align-self: flex-start;width: 50%;}#sk-container-id-1 div.sk-parallel-item:only-child::after {width: 0;}#sk-container-id-1 div.sk-dashed-wrapped {border: 1px dashed gray;margin: 0 0.4em 0.5em 0.4em;box-sizing: border-box;padding-bottom: 0.4em;background-color: white;}#sk-container-id-1 div.sk-label label {font-family: monospace;font-weight: bold;display: inline-block;line-height: 1.2em;}#sk-container-id-1 div.sk-label-container {text-align: center;}#sk-container-id-1 div.sk-container {/* jupyter's `normalize.less` sets `[hidden] { display: none; }` but bootstrap.min.css set `[hidden] { display: none !important; }` so we also need the `!important` here to be able to override the default hidden behavior on the sphinx rendered scikit-learn.org. See: https://github.com/scikit-learn/scikit-learn/issues/21755 */display: inline-block !important;position: relative;}#sk-container-id-1 div.sk-text-repr-fallback {display: none;}</style><div id=\"sk-container-id-1\" class=\"sk-top-container\"><div class=\"sk-text-repr-fallback\"><pre>GridSearchCV(cv=3, estimator=MultinomialNB(), n_jobs=-1,\n",
       "             param_grid={&#x27;alpha&#x27;: array([0. , 0.5, 1. , 1.5, 2. , 2.5, 3. , 3.5, 4. , 4.5, 5. , 5.5, 6. ,\n",
       "       6.5, 7. , 7.5, 8. , 8.5, 9. , 9.5]),\n",
       "                         &#x27;fit_prior&#x27;: [True, False]},\n",
       "             scoring=&#x27;f1&#x27;, verbose=2)</pre><b>In a Jupyter environment, please rerun this cell to show the HTML representation or trust the notebook. <br />On GitHub, the HTML representation is unable to render, please try loading this page with nbviewer.org.</b></div><div class=\"sk-container\" hidden><div class=\"sk-item sk-dashed-wrapped\"><div class=\"sk-label-container\"><div class=\"sk-label sk-toggleable\"><input class=\"sk-toggleable__control sk-hidden--visually\" id=\"sk-estimator-id-1\" type=\"checkbox\" ><label for=\"sk-estimator-id-1\" class=\"sk-toggleable__label sk-toggleable__label-arrow\">GridSearchCV</label><div class=\"sk-toggleable__content\"><pre>GridSearchCV(cv=3, estimator=MultinomialNB(), n_jobs=-1,\n",
       "             param_grid={&#x27;alpha&#x27;: array([0. , 0.5, 1. , 1.5, 2. , 2.5, 3. , 3.5, 4. , 4.5, 5. , 5.5, 6. ,\n",
       "       6.5, 7. , 7.5, 8. , 8.5, 9. , 9.5]),\n",
       "                         &#x27;fit_prior&#x27;: [True, False]},\n",
       "             scoring=&#x27;f1&#x27;, verbose=2)</pre></div></div></div><div class=\"sk-parallel\"><div class=\"sk-parallel-item\"><div class=\"sk-item\"><div class=\"sk-label-container\"><div class=\"sk-label sk-toggleable\"><input class=\"sk-toggleable__control sk-hidden--visually\" id=\"sk-estimator-id-2\" type=\"checkbox\" ><label for=\"sk-estimator-id-2\" class=\"sk-toggleable__label sk-toggleable__label-arrow\">estimator: MultinomialNB</label><div class=\"sk-toggleable__content\"><pre>MultinomialNB()</pre></div></div></div><div class=\"sk-serial\"><div class=\"sk-item\"><div class=\"sk-estimator sk-toggleable\"><input class=\"sk-toggleable__control sk-hidden--visually\" id=\"sk-estimator-id-3\" type=\"checkbox\" ><label for=\"sk-estimator-id-3\" class=\"sk-toggleable__label sk-toggleable__label-arrow\">MultinomialNB</label><div class=\"sk-toggleable__content\"><pre>MultinomialNB()</pre></div></div></div></div></div></div></div></div></div></div>"
      ],
      "text/plain": [
       "GridSearchCV(cv=3, estimator=MultinomialNB(), n_jobs=-1,\n",
       "             param_grid={'alpha': array([0. , 0.5, 1. , 1.5, 2. , 2.5, 3. , 3.5, 4. , 4.5, 5. , 5.5, 6. ,\n",
       "       6.5, 7. , 7.5, 8. , 8.5, 9. , 9.5]),\n",
       "                         'fit_prior': [True, False]},\n",
       "             scoring='f1', verbose=2)"
      ]
     },
     "execution_count": 58,
     "metadata": {},
     "output_type": "execute_result"
    }
   ],
   "source": [
    "from sklearn.model_selection import GridSearchCV\n",
    "import warnings\n",
    "warnings.filterwarnings('ignore')\n",
    "\n",
    "X_train, X_test, y_train, y_test = train_test_split(X, y, test_size=0.25, random_state=42)\n",
    "\n",
    "model = MultinomialNB()\n",
    "\n",
    "params = {'alpha' : np.arange(0, 10, 0.5),\n",
    "          'fit_prior' : [True, False]\n",
    "          }\n",
    "\n",
    "gs = GridSearchCV(model, params, scoring='f1', cv=3, n_jobs=-1, verbose=2)\n",
    "gs.fit(X_train, y_train)"
   ]
  },
  {
   "cell_type": "code",
   "execution_count": 59,
   "id": "bf198985-1c95-431c-91eb-8caa5276b0ec",
   "metadata": {},
   "outputs": [
    {
     "data": {
      "text/plain": [
       "(0.56771502025587, {'alpha': 6.0, 'fit_prior': True})"
      ]
     },
     "execution_count": 59,
     "metadata": {},
     "output_type": "execute_result"
    }
   ],
   "source": [
    "gs.best_score_, gs.best_params_"
   ]
  },
  {
   "cell_type": "code",
   "execution_count": 62,
   "id": "af5a904f-e82f-4793-b210-049bf943f577",
   "metadata": {},
   "outputs": [
    {
     "data": {
      "text/plain": [
       "0.868455497382199"
      ]
     },
     "execution_count": 62,
     "metadata": {},
     "output_type": "execute_result"
    }
   ],
   "source": [
    "mnb = MultinomialNB(alpha=6.0, fit_prior=True)\n",
    "\n",
    "mnb.fit(X_train, y_train)\n",
    "\n",
    "y_pred = mnb.predict(X_test)\n",
    "\n",
    "accuracy_score(y_test, y_pred)"
   ]
  },
  {
   "cell_type": "code",
   "execution_count": 64,
   "id": "7ff3d556-c789-4fa3-af14-d063397791a9",
   "metadata": {},
   "outputs": [
    {
     "data": {
      "text/plain": [
       "array([[2381,  202],\n",
       "       [ 200,  273]], dtype=int64)"
      ]
     },
     "execution_count": 64,
     "metadata": {},
     "output_type": "execute_result"
    }
   ],
   "source": [
    "confusion_matrix(y_test, y_pred)"
   ]
  },
  {
   "cell_type": "code",
   "execution_count": 66,
   "id": "14a0469a-b126-4618-a082-d5766c70ca2f",
   "metadata": {},
   "outputs": [
    {
     "data": {
      "text/plain": [
       "(0.5759493670886077, 0.5747368421052632, 0.5771670190274841)"
      ]
     },
     "execution_count": 66,
     "metadata": {},
     "output_type": "execute_result"
    }
   ],
   "source": [
    "f1_score(y_test, y_pred), precision_score(y_test, y_pred), recall_score(y_test, y_pred)"
   ]
  },
  {
   "cell_type": "code",
   "execution_count": 68,
   "id": "3dee2f0d-b23e-449e-8776-7b40a4894c06",
   "metadata": {},
   "outputs": [
    {
     "data": {
      "text/plain": [
       "(0.8724281157644949,\n",
       " 0.5924379440519603,\n",
       " 0.5874514145438711,\n",
       " 0.5985791043135315)"
      ]
     },
     "execution_count": 68,
     "metadata": {},
     "output_type": "execute_result"
    }
   ],
   "source": [
    "cv = cross_validate(mnb, X, y, scoring=['accuracy', 'f1', 'precision', 'recall'], cv=5, n_jobs=-1)\n",
    "cv['test_accuracy'].mean(), cv['test_f1'].mean(), cv['test_precision'].mean(), cv['test_recall'].mean()"
   ]
  },
  {
   "cell_type": "code",
   "execution_count": 70,
   "id": "6ddf9d86-952c-45b5-8fca-e62552cf8e06",
   "metadata": {},
   "outputs": [
    {
     "name": "stdout",
     "output_type": "stream",
     "text": [
      "Fitting 3 folds for each of 36 candidates, totalling 108 fits\n"
     ]
    },
    {
     "data": {
      "text/plain": [
       "(0.4292986240756865, {'n_neighbors': 2, 'p': 2, 'weights': 'distance'})"
      ]
     },
     "execution_count": 70,
     "metadata": {},
     "output_type": "execute_result"
    }
   ],
   "source": [
    "model = KNeighborsClassifier()\n",
    "\n",
    "params = {'n_neighbors' : np.arange(2, 20, 2),\n",
    "          'weights' : ['uniform', 'distance'],\n",
    "          'p' : [1, 2]}\n",
    "\n",
    "gs = GridSearchCV(model, params, scoring='f1', cv=3, n_jobs=-1, verbose=2)\n",
    "gs.fit(X_train, y_train)\n",
    "\n",
    "gs.best_score_, gs.best_params_"
   ]
  },
  {
   "cell_type": "code",
   "execution_count": 71,
   "id": "0723812f-f8cc-43c1-a4c7-e55cc579ee47",
   "metadata": {},
   "outputs": [
    {
     "data": {
      "text/plain": [
       "0.8242801047120419"
      ]
     },
     "execution_count": 71,
     "metadata": {},
     "output_type": "execute_result"
    }
   ],
   "source": [
    "knn_cl = KNeighborsClassifier(n_neighbors=2, p=2, weights='distance')\n",
    "\n",
    "knn_cl.fit(X_train, y_train)\n",
    "\n",
    "pred_knn = knn_cl.predict(X_test)\n",
    "\n",
    "accuracy_score(y_test, pred_knn)"
   ]
  },
  {
   "cell_type": "code",
   "execution_count": 74,
   "id": "c46f8055-54a0-4a97-963e-0c3f3ac7c07b",
   "metadata": {},
   "outputs": [
    {
     "data": {
      "text/plain": [
       "array([[2342,  241],\n",
       "       [ 296,  177]], dtype=int64)"
      ]
     },
     "execution_count": 74,
     "metadata": {},
     "output_type": "execute_result"
    }
   ],
   "source": [
    "confusion_matrix(y_test, pred_knn)"
   ]
  },
  {
   "cell_type": "code",
   "execution_count": 76,
   "id": "c42d3465-4de0-433f-aa7e-eef91ce60304",
   "metadata": {},
   "outputs": [
    {
     "data": {
      "text/plain": [
       "(0.39730639730639733, 0.423444976076555, 0.37420718816067655)"
      ]
     },
     "execution_count": 76,
     "metadata": {},
     "output_type": "execute_result"
    }
   ],
   "source": [
    "f1_score(y_test, pred_knn), precision_score(y_test, pred_knn), recall_score(y_test, pred_knn)"
   ]
  },
  {
   "cell_type": "code",
   "execution_count": 78,
   "id": "a599dd28-c128-4931-8ca9-48fbf9e24eb1",
   "metadata": {},
   "outputs": [
    {
     "data": {
      "text/plain": [
       "(0.8283263884007912,\n",
       " 0.4222821479521143,\n",
       " 0.4481475228014292,\n",
       " 0.40043561308763104)"
      ]
     },
     "execution_count": 78,
     "metadata": {},
     "output_type": "execute_result"
    }
   ],
   "source": [
    "from sklearn.model_selection import cross_validate\n",
    "\n",
    "cv = cross_validate(knn_cl, X, y, scoring=['accuracy', 'f1', 'precision', 'recall'], cv=5, n_jobs=-1)\n",
    "cv['test_accuracy'].mean(), cv['test_f1'].mean(), cv['test_precision'].mean(), cv['test_recall'].mean()"
   ]
  },
  {
   "cell_type": "markdown",
   "id": "feb8f558-f00f-4ec3-83e5-1434acd102bb",
   "metadata": {},
   "source": [
    "# Выводы\n",
    "\n",
    "Подбор гиперпараметров практически не повлиял на результаты модели Наивный байесовский классификатор и незначительно улучшил результаты модели KNN.\n",
    "Обе модели по-прежнему плохо распознают положительные классы.\n",
    "\n",
    "Возможно, эти модели не являются наилучшим выбором для имеющихся данных."
   ]
  },
  {
   "cell_type": "markdown",
   "id": "c105037f-a12d-4bbb-b4d8-8b54c30b8e21",
   "metadata": {},
   "source": [
    "# Добавление категориальных признаков в лучшую модель, обучение модели и заново подбор ее гиперпараметров \n",
    "+ вычисление метрик + текстовый комментарий"
   ]
  },
  {
   "cell_type": "markdown",
   "id": "1be57ee8-859c-4d5b-80fd-8608ac03003d",
   "metadata": {},
   "source": [
    "## Используем Наивный байесовский классификатор, т.к. он показал лучшие результаты"
   ]
  },
  {
   "cell_type": "code",
   "execution_count": 83,
   "id": "5df64df5-7921-4cb3-9fa3-5766a57bdd3f",
   "metadata": {},
   "outputs": [
    {
     "data": {
      "text/plain": [
       "(0.15612470337942885,\n",
       " Revenue\n",
       " 0    10313\n",
       " 1     1908\n",
       " Name: count, dtype: int64)"
      ]
     },
     "execution_count": 83,
     "metadata": {},
     "output_type": "execute_result"
    }
   ],
   "source": [
    "X = df.drop(columns=['Revenue'])\n",
    "y = df['Revenue']\n",
    "\n",
    "y.mean(), y.value_counts()"
   ]
  },
  {
   "cell_type": "code",
   "execution_count": 85,
   "id": "ea1db228-b04d-4fce-855e-fe52a088c39a",
   "metadata": {},
   "outputs": [
    {
     "name": "stdout",
     "output_type": "stream",
     "text": [
      "<class 'pandas.core.frame.DataFrame'>\n",
      "Index: 12221 entries, 0 to 12329\n",
      "Data columns (total 17 columns):\n",
      " #   Column                   Non-Null Count  Dtype  \n",
      "---  ------                   --------------  -----  \n",
      " 0   Administrative           12221 non-null  int64  \n",
      " 1   Administrative_Duration  12221 non-null  float64\n",
      " 2   Informational            12221 non-null  int64  \n",
      " 3   Informational_Duration   12221 non-null  float64\n",
      " 4   ProductRelated           12221 non-null  int64  \n",
      " 5   ProductRelated_Duration  12221 non-null  float64\n",
      " 6   BounceRates              12221 non-null  float64\n",
      " 7   ExitRates                12221 non-null  float64\n",
      " 8   PageValues               12221 non-null  float64\n",
      " 9   SpecialDay               12221 non-null  float64\n",
      " 10  Month                    12221 non-null  object \n",
      " 11  OperatingSystems         12221 non-null  int64  \n",
      " 12  Browser                  12221 non-null  int64  \n",
      " 13  Region                   12221 non-null  int64  \n",
      " 14  TrafficType              12221 non-null  int64  \n",
      " 15  VisitorType              12221 non-null  object \n",
      " 16  Weekend                  12221 non-null  int32  \n",
      "dtypes: float64(7), int32(1), int64(7), object(2)\n",
      "memory usage: 1.6+ MB\n"
     ]
    }
   ],
   "source": [
    "X.info()"
   ]
  },
  {
   "cell_type": "code",
   "execution_count": 87,
   "id": "f10a4e50-0489-42de-bd27-5ea6ff70bf61",
   "metadata": {},
   "outputs": [
    {
     "data": {
      "text/html": [
       "<div>\n",
       "<style scoped>\n",
       "    .dataframe tbody tr th:only-of-type {\n",
       "        vertical-align: middle;\n",
       "    }\n",
       "\n",
       "    .dataframe tbody tr th {\n",
       "        vertical-align: top;\n",
       "    }\n",
       "\n",
       "    .dataframe thead th {\n",
       "        text-align: right;\n",
       "    }\n",
       "</style>\n",
       "<table border=\"1\" class=\"dataframe\">\n",
       "  <thead>\n",
       "    <tr style=\"text-align: right;\">\n",
       "      <th></th>\n",
       "      <th>Administrative</th>\n",
       "      <th>Administrative_Duration</th>\n",
       "      <th>Informational</th>\n",
       "      <th>Informational_Duration</th>\n",
       "      <th>ProductRelated</th>\n",
       "      <th>ProductRelated_Duration</th>\n",
       "      <th>BounceRates</th>\n",
       "      <th>ExitRates</th>\n",
       "      <th>PageValues</th>\n",
       "      <th>SpecialDay</th>\n",
       "      <th>OperatingSystems</th>\n",
       "      <th>Browser</th>\n",
       "      <th>Region</th>\n",
       "      <th>TrafficType</th>\n",
       "      <th>Weekend</th>\n",
       "    </tr>\n",
       "  </thead>\n",
       "  <tbody>\n",
       "    <tr>\n",
       "      <th>count</th>\n",
       "      <td>12221.000000</td>\n",
       "      <td>12221.000000</td>\n",
       "      <td>12221.000000</td>\n",
       "      <td>12221.000000</td>\n",
       "      <td>12221.000000</td>\n",
       "      <td>12221.000000</td>\n",
       "      <td>12221.000000</td>\n",
       "      <td>12221.000000</td>\n",
       "      <td>12221.000000</td>\n",
       "      <td>12221.000000</td>\n",
       "      <td>12221.000000</td>\n",
       "      <td>12221.000000</td>\n",
       "      <td>12221.000000</td>\n",
       "      <td>12221.000000</td>\n",
       "      <td>12221.000000</td>\n",
       "    </tr>\n",
       "    <tr>\n",
       "      <th>mean</th>\n",
       "      <td>2.335815</td>\n",
       "      <td>81.539438</td>\n",
       "      <td>0.508060</td>\n",
       "      <td>34.724659</td>\n",
       "      <td>32.005073</td>\n",
       "      <td>1195.029473</td>\n",
       "      <td>0.020605</td>\n",
       "      <td>0.041475</td>\n",
       "      <td>5.941785</td>\n",
       "      <td>0.061861</td>\n",
       "      <td>2.123558</td>\n",
       "      <td>2.356845</td>\n",
       "      <td>3.152115</td>\n",
       "      <td>4.070616</td>\n",
       "      <td>0.234105</td>\n",
       "    </tr>\n",
       "    <tr>\n",
       "      <th>std</th>\n",
       "      <td>3.329330</td>\n",
       "      <td>177.400179</td>\n",
       "      <td>1.274914</td>\n",
       "      <td>141.269887</td>\n",
       "      <td>44.578528</td>\n",
       "      <td>1898.560310</td>\n",
       "      <td>0.045690</td>\n",
       "      <td>0.046267</td>\n",
       "      <td>18.642697</td>\n",
       "      <td>0.199548</td>\n",
       "      <td>0.906759</td>\n",
       "      <td>1.709433</td>\n",
       "      <td>2.401892</td>\n",
       "      <td>4.015172</td>\n",
       "      <td>0.423456</td>\n",
       "    </tr>\n",
       "    <tr>\n",
       "      <th>min</th>\n",
       "      <td>0.000000</td>\n",
       "      <td>0.000000</td>\n",
       "      <td>0.000000</td>\n",
       "      <td>0.000000</td>\n",
       "      <td>0.000000</td>\n",
       "      <td>0.000000</td>\n",
       "      <td>0.000000</td>\n",
       "      <td>0.000000</td>\n",
       "      <td>0.000000</td>\n",
       "      <td>0.000000</td>\n",
       "      <td>1.000000</td>\n",
       "      <td>1.000000</td>\n",
       "      <td>1.000000</td>\n",
       "      <td>1.000000</td>\n",
       "      <td>0.000000</td>\n",
       "    </tr>\n",
       "    <tr>\n",
       "      <th>25%</th>\n",
       "      <td>0.000000</td>\n",
       "      <td>0.000000</td>\n",
       "      <td>0.000000</td>\n",
       "      <td>0.000000</td>\n",
       "      <td>8.000000</td>\n",
       "      <td>192.000000</td>\n",
       "      <td>0.000000</td>\n",
       "      <td>0.014286</td>\n",
       "      <td>0.000000</td>\n",
       "      <td>0.000000</td>\n",
       "      <td>2.000000</td>\n",
       "      <td>2.000000</td>\n",
       "      <td>1.000000</td>\n",
       "      <td>2.000000</td>\n",
       "      <td>0.000000</td>\n",
       "    </tr>\n",
       "    <tr>\n",
       "      <th>50%</th>\n",
       "      <td>1.000000</td>\n",
       "      <td>9.000000</td>\n",
       "      <td>0.000000</td>\n",
       "      <td>0.000000</td>\n",
       "      <td>18.000000</td>\n",
       "      <td>606.785714</td>\n",
       "      <td>0.002941</td>\n",
       "      <td>0.025000</td>\n",
       "      <td>0.000000</td>\n",
       "      <td>0.000000</td>\n",
       "      <td>2.000000</td>\n",
       "      <td>2.000000</td>\n",
       "      <td>3.000000</td>\n",
       "      <td>2.000000</td>\n",
       "      <td>0.000000</td>\n",
       "    </tr>\n",
       "    <tr>\n",
       "      <th>75%</th>\n",
       "      <td>4.000000</td>\n",
       "      <td>94.600000</td>\n",
       "      <td>0.000000</td>\n",
       "      <td>0.000000</td>\n",
       "      <td>38.000000</td>\n",
       "      <td>1470.208333</td>\n",
       "      <td>0.016667</td>\n",
       "      <td>0.048148</td>\n",
       "      <td>0.000000</td>\n",
       "      <td>0.000000</td>\n",
       "      <td>3.000000</td>\n",
       "      <td>2.000000</td>\n",
       "      <td>4.000000</td>\n",
       "      <td>4.000000</td>\n",
       "      <td>0.000000</td>\n",
       "    </tr>\n",
       "    <tr>\n",
       "      <th>max</th>\n",
       "      <td>27.000000</td>\n",
       "      <td>3398.750000</td>\n",
       "      <td>24.000000</td>\n",
       "      <td>2549.375000</td>\n",
       "      <td>705.000000</td>\n",
       "      <td>63973.522230</td>\n",
       "      <td>0.200000</td>\n",
       "      <td>0.200000</td>\n",
       "      <td>361.763742</td>\n",
       "      <td>1.000000</td>\n",
       "      <td>8.000000</td>\n",
       "      <td>13.000000</td>\n",
       "      <td>9.000000</td>\n",
       "      <td>20.000000</td>\n",
       "      <td>1.000000</td>\n",
       "    </tr>\n",
       "  </tbody>\n",
       "</table>\n",
       "</div>"
      ],
      "text/plain": [
       "       Administrative  Administrative_Duration  Informational  \\\n",
       "count    12221.000000             12221.000000   12221.000000   \n",
       "mean         2.335815                81.539438       0.508060   \n",
       "std          3.329330               177.400179       1.274914   \n",
       "min          0.000000                 0.000000       0.000000   \n",
       "25%          0.000000                 0.000000       0.000000   \n",
       "50%          1.000000                 9.000000       0.000000   \n",
       "75%          4.000000                94.600000       0.000000   \n",
       "max         27.000000              3398.750000      24.000000   \n",
       "\n",
       "       Informational_Duration  ProductRelated  ProductRelated_Duration  \\\n",
       "count            12221.000000    12221.000000             12221.000000   \n",
       "mean                34.724659       32.005073              1195.029473   \n",
       "std                141.269887       44.578528              1898.560310   \n",
       "min                  0.000000        0.000000                 0.000000   \n",
       "25%                  0.000000        8.000000               192.000000   \n",
       "50%                  0.000000       18.000000               606.785714   \n",
       "75%                  0.000000       38.000000              1470.208333   \n",
       "max               2549.375000      705.000000             63973.522230   \n",
       "\n",
       "        BounceRates     ExitRates    PageValues    SpecialDay  \\\n",
       "count  12221.000000  12221.000000  12221.000000  12221.000000   \n",
       "mean       0.020605      0.041475      5.941785      0.061861   \n",
       "std        0.045690      0.046267     18.642697      0.199548   \n",
       "min        0.000000      0.000000      0.000000      0.000000   \n",
       "25%        0.000000      0.014286      0.000000      0.000000   \n",
       "50%        0.002941      0.025000      0.000000      0.000000   \n",
       "75%        0.016667      0.048148      0.000000      0.000000   \n",
       "max        0.200000      0.200000    361.763742      1.000000   \n",
       "\n",
       "       OperatingSystems       Browser        Region   TrafficType  \\\n",
       "count      12221.000000  12221.000000  12221.000000  12221.000000   \n",
       "mean           2.123558      2.356845      3.152115      4.070616   \n",
       "std            0.906759      1.709433      2.401892      4.015172   \n",
       "min            1.000000      1.000000      1.000000      1.000000   \n",
       "25%            2.000000      2.000000      1.000000      2.000000   \n",
       "50%            2.000000      2.000000      3.000000      2.000000   \n",
       "75%            3.000000      2.000000      4.000000      4.000000   \n",
       "max            8.000000     13.000000      9.000000     20.000000   \n",
       "\n",
       "            Weekend  \n",
       "count  12221.000000  \n",
       "mean       0.234105  \n",
       "std        0.423456  \n",
       "min        0.000000  \n",
       "25%        0.000000  \n",
       "50%        0.000000  \n",
       "75%        0.000000  \n",
       "max        1.000000  "
      ]
     },
     "execution_count": 87,
     "metadata": {},
     "output_type": "execute_result"
    }
   ],
   "source": [
    "X.describe()"
   ]
  },
  {
   "cell_type": "code",
   "execution_count": 89,
   "id": "ce29b9d7-256d-441f-8503-44944b9f21d5",
   "metadata": {},
   "outputs": [],
   "source": [
    "X_train, X_test, y_train, y_test = train_test_split(X, y, test_size=0.25, random_state=42)"
   ]
  },
  {
   "cell_type": "code",
   "execution_count": 91,
   "id": "faa1870c-c947-41c2-b8a6-c6630f2937fc",
   "metadata": {},
   "outputs": [],
   "source": [
    "from sklearn.preprocessing import OneHotEncoder, MinMaxScaler\n",
    "from sklearn.compose import ColumnTransformer\n",
    "\n",
    "categorical = ['SpecialDay', 'Month', 'OperatingSystems', 'Browser', 'Region', 'TrafficType', 'VisitorType', 'Weekend']\n",
    "numeric_features = ['Administrative', 'Administrative_Duration', 'Informational', 'Informational_Duration',\n",
    "                    'ProductRelated', 'ProductRelated_Duration', 'BounceRates', 'ExitRates', 'PageValues']\t\n",
    "\n",
    "ct = ColumnTransformer([\n",
    "    ('ohe', OneHotEncoder(handle_unknown='ignore', drop='first', sparse=False), categorical),\n",
    "    ('scaling', MinMaxScaler(), numeric_features)\n",
    "])\n",
    "\n",
    "X_train_transformed = ct.fit_transform(X_train)\n",
    "X_test_transformed = ct.transform(X_test)\n",
    "X_transformed = ct.transform(X)"
   ]
  },
  {
   "cell_type": "code",
   "execution_count": 93,
   "id": "cdb289a1-0d1d-43f4-88e1-81576284ec55",
   "metadata": {
    "scrolled": true
   },
   "outputs": [
    {
     "data": {
      "text/html": [
       "<div>\n",
       "<style scoped>\n",
       "    .dataframe tbody tr th:only-of-type {\n",
       "        vertical-align: middle;\n",
       "    }\n",
       "\n",
       "    .dataframe tbody tr th {\n",
       "        vertical-align: top;\n",
       "    }\n",
       "\n",
       "    .dataframe thead th {\n",
       "        text-align: right;\n",
       "    }\n",
       "</style>\n",
       "<table border=\"1\" class=\"dataframe\">\n",
       "  <thead>\n",
       "    <tr style=\"text-align: right;\">\n",
       "      <th></th>\n",
       "      <th>SpecialDay_0.2</th>\n",
       "      <th>SpecialDay_0.4</th>\n",
       "      <th>SpecialDay_0.6</th>\n",
       "      <th>SpecialDay_0.8</th>\n",
       "      <th>SpecialDay_1.0</th>\n",
       "      <th>Month_Dec</th>\n",
       "      <th>Month_Feb</th>\n",
       "      <th>Month_Jul</th>\n",
       "      <th>Month_June</th>\n",
       "      <th>Month_Mar</th>\n",
       "      <th>...</th>\n",
       "      <th>Weekend_1</th>\n",
       "      <th>Administrative</th>\n",
       "      <th>Administrative_Duration</th>\n",
       "      <th>Informational</th>\n",
       "      <th>Informational_Duration</th>\n",
       "      <th>ProductRelated</th>\n",
       "      <th>ProductRelated_Duration</th>\n",
       "      <th>BounceRates</th>\n",
       "      <th>ExitRates</th>\n",
       "      <th>PageValues</th>\n",
       "    </tr>\n",
       "  </thead>\n",
       "  <tbody>\n",
       "    <tr>\n",
       "      <th>0</th>\n",
       "      <td>0.0</td>\n",
       "      <td>1.0</td>\n",
       "      <td>0.0</td>\n",
       "      <td>0.0</td>\n",
       "      <td>0.0</td>\n",
       "      <td>0.0</td>\n",
       "      <td>0.0</td>\n",
       "      <td>0.0</td>\n",
       "      <td>0.0</td>\n",
       "      <td>0.0</td>\n",
       "      <td>...</td>\n",
       "      <td>0.0</td>\n",
       "      <td>0.000000</td>\n",
       "      <td>0.000000</td>\n",
       "      <td>0.000000</td>\n",
       "      <td>0.000000</td>\n",
       "      <td>0.034043</td>\n",
       "      <td>0.009345</td>\n",
       "      <td>0.041667</td>\n",
       "      <td>0.104167</td>\n",
       "      <td>0.000000</td>\n",
       "    </tr>\n",
       "    <tr>\n",
       "      <th>1</th>\n",
       "      <td>0.0</td>\n",
       "      <td>0.0</td>\n",
       "      <td>0.0</td>\n",
       "      <td>0.0</td>\n",
       "      <td>0.0</td>\n",
       "      <td>1.0</td>\n",
       "      <td>0.0</td>\n",
       "      <td>0.0</td>\n",
       "      <td>0.0</td>\n",
       "      <td>0.0</td>\n",
       "      <td>...</td>\n",
       "      <td>0.0</td>\n",
       "      <td>0.038462</td>\n",
       "      <td>0.027657</td>\n",
       "      <td>0.000000</td>\n",
       "      <td>0.000000</td>\n",
       "      <td>0.076596</td>\n",
       "      <td>0.018928</td>\n",
       "      <td>0.027273</td>\n",
       "      <td>0.043357</td>\n",
       "      <td>0.000000</td>\n",
       "    </tr>\n",
       "    <tr>\n",
       "      <th>2</th>\n",
       "      <td>0.0</td>\n",
       "      <td>0.0</td>\n",
       "      <td>0.0</td>\n",
       "      <td>0.0</td>\n",
       "      <td>0.0</td>\n",
       "      <td>0.0</td>\n",
       "      <td>0.0</td>\n",
       "      <td>0.0</td>\n",
       "      <td>0.0</td>\n",
       "      <td>0.0</td>\n",
       "      <td>...</td>\n",
       "      <td>0.0</td>\n",
       "      <td>0.076923</td>\n",
       "      <td>0.033836</td>\n",
       "      <td>0.208333</td>\n",
       "      <td>0.059492</td>\n",
       "      <td>0.029787</td>\n",
       "      <td>0.032525</td>\n",
       "      <td>0.059524</td>\n",
       "      <td>0.225962</td>\n",
       "      <td>0.056461</td>\n",
       "    </tr>\n",
       "    <tr>\n",
       "      <th>3</th>\n",
       "      <td>0.0</td>\n",
       "      <td>0.0</td>\n",
       "      <td>0.0</td>\n",
       "      <td>0.0</td>\n",
       "      <td>0.0</td>\n",
       "      <td>0.0</td>\n",
       "      <td>0.0</td>\n",
       "      <td>0.0</td>\n",
       "      <td>0.0</td>\n",
       "      <td>1.0</td>\n",
       "      <td>...</td>\n",
       "      <td>0.0</td>\n",
       "      <td>0.230769</td>\n",
       "      <td>0.050337</td>\n",
       "      <td>0.000000</td>\n",
       "      <td>0.000000</td>\n",
       "      <td>0.039716</td>\n",
       "      <td>0.014886</td>\n",
       "      <td>0.000000</td>\n",
       "      <td>0.066667</td>\n",
       "      <td>0.144363</td>\n",
       "    </tr>\n",
       "    <tr>\n",
       "      <th>4</th>\n",
       "      <td>0.0</td>\n",
       "      <td>0.0</td>\n",
       "      <td>0.0</td>\n",
       "      <td>0.0</td>\n",
       "      <td>0.0</td>\n",
       "      <td>1.0</td>\n",
       "      <td>0.0</td>\n",
       "      <td>0.0</td>\n",
       "      <td>0.0</td>\n",
       "      <td>0.0</td>\n",
       "      <td>...</td>\n",
       "      <td>0.0</td>\n",
       "      <td>0.307692</td>\n",
       "      <td>0.045973</td>\n",
       "      <td>0.000000</td>\n",
       "      <td>0.000000</td>\n",
       "      <td>0.068085</td>\n",
       "      <td>0.023152</td>\n",
       "      <td>0.018868</td>\n",
       "      <td>0.040881</td>\n",
       "      <td>0.000000</td>\n",
       "    </tr>\n",
       "  </tbody>\n",
       "</table>\n",
       "<p>5 rows × 70 columns</p>\n",
       "</div>"
      ],
      "text/plain": [
       "   SpecialDay_0.2  SpecialDay_0.4  SpecialDay_0.6  SpecialDay_0.8  \\\n",
       "0             0.0             1.0             0.0             0.0   \n",
       "1             0.0             0.0             0.0             0.0   \n",
       "2             0.0             0.0             0.0             0.0   \n",
       "3             0.0             0.0             0.0             0.0   \n",
       "4             0.0             0.0             0.0             0.0   \n",
       "\n",
       "   SpecialDay_1.0  Month_Dec  Month_Feb  Month_Jul  Month_June  Month_Mar  \\\n",
       "0             0.0        0.0        0.0        0.0         0.0        0.0   \n",
       "1             0.0        1.0        0.0        0.0         0.0        0.0   \n",
       "2             0.0        0.0        0.0        0.0         0.0        0.0   \n",
       "3             0.0        0.0        0.0        0.0         0.0        1.0   \n",
       "4             0.0        1.0        0.0        0.0         0.0        0.0   \n",
       "\n",
       "   ...  Weekend_1  Administrative  Administrative_Duration  Informational  \\\n",
       "0  ...        0.0        0.000000                 0.000000       0.000000   \n",
       "1  ...        0.0        0.038462                 0.027657       0.000000   \n",
       "2  ...        0.0        0.076923                 0.033836       0.208333   \n",
       "3  ...        0.0        0.230769                 0.050337       0.000000   \n",
       "4  ...        0.0        0.307692                 0.045973       0.000000   \n",
       "\n",
       "   Informational_Duration  ProductRelated  ProductRelated_Duration  \\\n",
       "0                0.000000        0.034043                 0.009345   \n",
       "1                0.000000        0.076596                 0.018928   \n",
       "2                0.059492        0.029787                 0.032525   \n",
       "3                0.000000        0.039716                 0.014886   \n",
       "4                0.000000        0.068085                 0.023152   \n",
       "\n",
       "   BounceRates  ExitRates  PageValues  \n",
       "0     0.041667   0.104167    0.000000  \n",
       "1     0.027273   0.043357    0.000000  \n",
       "2     0.059524   0.225962    0.056461  \n",
       "3     0.000000   0.066667    0.144363  \n",
       "4     0.018868   0.040881    0.000000  \n",
       "\n",
       "[5 rows x 70 columns]"
      ]
     },
     "execution_count": 93,
     "metadata": {},
     "output_type": "execute_result"
    }
   ],
   "source": [
    "new_features = list(ct.named_transformers_['ohe'].get_feature_names_out())\n",
    "new_features.extend(numeric_features)\n",
    "\n",
    "# new_features\n",
    "X_train_transformed = pd.DataFrame(X_train_transformed, columns=new_features)\n",
    "X_test_transformed = pd.DataFrame(X_test_transformed, columns=new_features)\n",
    "X_transformed = pd.DataFrame(X_transformed, columns=new_features)\n",
    "\n",
    "X_train_transformed.head()"
   ]
  },
  {
   "cell_type": "code",
   "execution_count": 95,
   "id": "332b49fc-501b-48ef-833c-6e808cdcb641",
   "metadata": {},
   "outputs": [
    {
     "name": "stdout",
     "output_type": "stream",
     "text": [
      "Fitting 3 folds for each of 400 candidates, totalling 1200 fits\n"
     ]
    },
    {
     "data": {
      "text/plain": [
       "(0.4138147592930388, {'alpha': 3.85, 'fit_prior': False})"
      ]
     },
     "execution_count": 95,
     "metadata": {},
     "output_type": "execute_result"
    }
   ],
   "source": [
    "model = MultinomialNB()\n",
    "\n",
    "params = {'alpha' : np.arange(0, 10, 0.05),\n",
    "          'fit_prior' : [True, False]}\n",
    "\n",
    "gs = GridSearchCV(model, params, scoring='f1', cv=3, n_jobs=-1, verbose=2)\n",
    "gs.fit(X_train_transformed, y_train)\n",
    "\n",
    "gs.best_score_, gs.best_params_"
   ]
  },
  {
   "cell_type": "code",
   "execution_count": 96,
   "id": "c5b8bd1c-599a-4e9c-983a-a47e9ea1df71",
   "metadata": {},
   "outputs": [
    {
     "data": {
      "text/plain": [
       "0.675392670157068"
      ]
     },
     "execution_count": 96,
     "metadata": {},
     "output_type": "execute_result"
    }
   ],
   "source": [
    "mnb = MultinomialNB(alpha=3.85, fit_prior=False)\n",
    "\n",
    "mnb.fit(X_train_transformed, y_train)\n",
    "\n",
    "y_pred = mnb.predict(X_test_transformed)\n",
    "\n",
    "accuracy_score(y_test, y_pred)"
   ]
  },
  {
   "cell_type": "code",
   "execution_count": 97,
   "id": "f9e96432-fd4b-42ad-8651-b935968296b1",
   "metadata": {},
   "outputs": [
    {
     "data": {
      "text/plain": [
       "array([[1713,  870],\n",
       "       [ 122,  351]], dtype=int64)"
      ]
     },
     "execution_count": 97,
     "metadata": {},
     "output_type": "execute_result"
    }
   ],
   "source": [
    "confusion_matrix(y_test, y_pred)"
   ]
  },
  {
   "cell_type": "code",
   "execution_count": 98,
   "id": "558139b1-06b9-4878-963b-75cf24324937",
   "metadata": {},
   "outputs": [
    {
     "data": {
      "text/plain": [
       "(0.41440377804014167, 0.28746928746928746, 0.7420718816067653)"
      ]
     },
     "execution_count": 98,
     "metadata": {},
     "output_type": "execute_result"
    }
   ],
   "source": [
    "f1_score(y_test, y_pred), precision_score(y_test, y_pred), recall_score(y_test, y_pred)"
   ]
  },
  {
   "cell_type": "code",
   "execution_count": 99,
   "id": "5fb20d6f-cc3c-47e4-ae08-5df038d36715",
   "metadata": {},
   "outputs": [
    {
     "data": {
      "text/plain": [
       "(0.46953791933168,\n",
       " 0.32175407951975654,\n",
       " 0.20728874301747147,\n",
       " 0.7714501655879402)"
      ]
     },
     "execution_count": 99,
     "metadata": {},
     "output_type": "execute_result"
    }
   ],
   "source": [
    "cv = cross_validate(mnb, X_transformed, y, scoring=['accuracy', 'f1', 'precision', 'recall'], cv=5, n_jobs=-1)\n",
    "cv['test_accuracy'].mean(), cv['test_f1'].mean(), cv['test_precision'].mean(), cv['test_recall'].mean()"
   ]
  },
  {
   "cell_type": "markdown",
   "id": "140ca715-14ec-4527-abf9-f7d368fabb21",
   "metadata": {},
   "source": [
    "# Выводы\n",
    "\n",
    "При добавлении всех колонок и их проебразовании, accuracy модели значительно ухудшилась, но recall выросла выше 70%. Теперь модель лучше предсказывает положительный класс, но и выдает значительно больше ложноположительных результатов - precision падает до ~20%.\n",
    "\n",
    "Возможно, для таких данных лучше использовать другие варианты преобразования и другие модели."
   ]
  },
  {
   "cell_type": "markdown",
   "id": "2c8675f1-6272-45e3-a56e-f80d93b9beb5",
   "metadata": {},
   "source": [
    " ## Попробуем запустить pipeline для модели KNN"
   ]
  },
  {
   "cell_type": "code",
   "execution_count": 102,
   "id": "f3076bf7-2224-494f-8b01-dcfe6b5c5132",
   "metadata": {},
   "outputs": [],
   "source": [
    "from sklearn.pipeline import Pipeline\n",
    "from sklearn.preprocessing import PolynomialFeatures\n",
    "from sklearn.feature_selection import f_classif, SelectKBest\n",
    "\n",
    "pipe = Pipeline([\n",
    "    ('transformer', ct), # преобразование данных\n",
    "    # ('poly', PolynomialFeatures(3)), # добавление полиномиальных признаков,\n",
    "    ('selector', SelectKBest(f_classif, k=10)), # оставляем самые важные признаки,\n",
    "    ('model', KNeighborsClassifier()) # обучение модели\n",
    "    ])\n",
    "\n",
    "pipe.fit(X_train, y_train)\n",
    "\n",
    "pred_pipe = pipe.predict(X_test)"
   ]
  },
  {
   "cell_type": "code",
   "execution_count": 107,
   "id": "e7771a70-1310-4c4a-bd69-67544229045d",
   "metadata": {},
   "outputs": [
    {
     "data": {
      "text/plain": [
       "0.8766361256544503"
      ]
     },
     "execution_count": 107,
     "metadata": {},
     "output_type": "execute_result"
    }
   ],
   "source": [
    "accuracy_score(y_test, pred_pipe)"
   ]
  },
  {
   "cell_type": "code",
   "execution_count": 111,
   "id": "0dbb2339-e908-47f2-b95c-94a8ec36b8d6",
   "metadata": {},
   "outputs": [
    {
     "data": {
      "text/plain": [
       "array([[2477,  106],\n",
       "       [ 271,  202]], dtype=int64)"
      ]
     },
     "execution_count": 111,
     "metadata": {},
     "output_type": "execute_result"
    }
   ],
   "source": [
    "confusion_matrix(y_test, pred_pipe)"
   ]
  },
  {
   "cell_type": "code",
   "execution_count": 113,
   "id": "9d545100-2976-4998-9216-ee0d1ab4874e",
   "metadata": {},
   "outputs": [
    {
     "data": {
      "text/plain": [
       "(0.5172855313700385, 0.6558441558441559, 0.427061310782241)"
      ]
     },
     "execution_count": 113,
     "metadata": {},
     "output_type": "execute_result"
    }
   ],
   "source": [
    "f1_score(y_test, pred_pipe), precision_score(y_test, pred_pipe), recall_score(y_test, pred_pipe)"
   ]
  },
  {
   "cell_type": "code",
   "execution_count": 115,
   "id": "dd8f5bd4-41e5-449e-b910-261460309438",
   "metadata": {},
   "outputs": [
    {
     "name": "stdout",
     "output_type": "stream",
     "text": [
      "Fitting 3 folds for each of 112 candidates, totalling 336 fits\n"
     ]
    },
    {
     "data": {
      "text/plain": [
       "(0.6095496569975706,\n",
       " {'model__n_neighbors': 8,\n",
       "  'model__p': 2,\n",
       "  'model__weights': 'distance',\n",
       "  'selector__k': 4})"
      ]
     },
     "execution_count": 115,
     "metadata": {},
     "output_type": "execute_result"
    }
   ],
   "source": [
    "params = {'selector__k' : [2,3,4,6,8,10,12],\n",
    "          'model__n_neighbors' : np.arange(2, 10, 2), \n",
    "          'model__weights' : ['uniform', 'distance'], \n",
    "          'model__p' : [1, 2]}\n",
    "\n",
    "gs = GridSearchCV(pipe, params, scoring='f1', cv=3, n_jobs=-1, verbose=2)\n",
    "gs.fit(X_train, y_train)\n",
    "\n",
    "gs.best_score_, gs.best_params_"
   ]
  },
  {
   "cell_type": "code",
   "execution_count": 116,
   "id": "6f3e5bcf-8271-4345-952b-03f177b29b03",
   "metadata": {},
   "outputs": [],
   "source": [
    "pipe = Pipeline([\n",
    "    ('transformer', ct), # преобразование данных\n",
    "    # ('poly', PolynomialFeatures(3)), # добавление полиномиальных признаков,\n",
    "    ('selector', SelectKBest(f_classif, k=4)), # оставляем самые важные признаки,\n",
    "    ('model', KNeighborsClassifier(n_neighbors=8, weights= 'distance', p=2)) # обучение модели\n",
    "    ])\n",
    "\n",
    "pipe.fit(X_train, y_train)\n",
    "\n",
    "pred_pipe = pipe.predict(X_test)"
   ]
  },
  {
   "cell_type": "code",
   "execution_count": 119,
   "id": "48b15137-463a-4ba5-946a-e2a5a615c279",
   "metadata": {},
   "outputs": [
    {
     "data": {
      "text/plain": [
       "0.8831806282722513"
      ]
     },
     "execution_count": 119,
     "metadata": {},
     "output_type": "execute_result"
    }
   ],
   "source": [
    "accuracy_score(y_test, pred_pipe)"
   ]
  },
  {
   "cell_type": "code",
   "execution_count": 121,
   "id": "f96e22bb-1b9f-466a-8558-7436d1313428",
   "metadata": {},
   "outputs": [
    {
     "data": {
      "text/plain": [
       "array([[2447,  136],\n",
       "       [ 221,  252]], dtype=int64)"
      ]
     },
     "execution_count": 121,
     "metadata": {},
     "output_type": "execute_result"
    }
   ],
   "source": [
    "confusion_matrix(y_test, pred_pipe)"
   ]
  },
  {
   "cell_type": "code",
   "execution_count": 123,
   "id": "8e5bc398-5c51-4759-810d-e2a0a243697f",
   "metadata": {},
   "outputs": [
    {
     "data": {
      "text/plain": [
       "(0.5853658536585366, 0.6494845360824743, 0.53276955602537)"
      ]
     },
     "execution_count": 123,
     "metadata": {},
     "output_type": "execute_result"
    }
   ],
   "source": [
    "f1_score(y_test, pred_pipe), precision_score(y_test, pred_pipe), recall_score(y_test, pred_pipe)"
   ]
  },
  {
   "cell_type": "markdown",
   "id": "fd4ca30d-e370-4cab-93c4-8184672d82ad",
   "metadata": {},
   "source": [
    "# Выводы\n",
    "\n",
    "Добавление всех признаков, их преобразование и отбор (SelectKBest) позволили улучшить точность и полноту модели KNN, которая намного лучше теперь определяет положительный класс. \n",
    "Подбор гиперпараметров модели и SelectKBest позволил еще сильнее улучшить показатели модели:\n",
    "- precision - c 0.58 до 0.65\n",
    "- recall - c 0.29 до 0.53\n",
    "- f1 - с 0.38 до 0.59\n",
    "- accuracy - с 0.86 до 0.88.\n",
    "Т.о. возросла и общая точность модели, и ее способность предсказывать положительный класс."
   ]
  },
  {
   "cell_type": "markdown",
   "id": "99e88318-da13-461f-97ae-e1e506ce1831",
   "metadata": {},
   "source": [
    "# Построение Explainer Dashboard и сохранение файла с ним на GitHub\n",
    "\n",
    "Анализ модели в Explainer Dashboard:\n",
    "- какие факторы наиболее важны в среднем для получения прогноза?\n",
    "- какие значения метрик получились и что это значит?\n",
    "- анализ 2-3 индивидуальных прогнозов с комментарием"
   ]
  },
  {
   "cell_type": "code",
   "execution_count": 194,
   "id": "7fa9ab6d-ac3d-4320-95c5-21d4df0ba21b",
   "metadata": {},
   "outputs": [],
   "source": [
    "from explainerdashboard import ClassifierExplainer, ExplainerDashboard\n",
    "\n",
    "from IPython.core.interactiveshell import InteractiveShell\n",
    "InteractiveShell.ast_node_interactivity = \"all\""
   ]
  },
  {
   "cell_type": "code",
   "execution_count": 196,
   "id": "c255062d-6486-4ed1-a2bc-2f2a7f9319f9",
   "metadata": {},
   "outputs": [
    {
     "data": {
      "text/html": [
       "<div>\n",
       "<style scoped>\n",
       "    .dataframe tbody tr th:only-of-type {\n",
       "        vertical-align: middle;\n",
       "    }\n",
       "\n",
       "    .dataframe tbody tr th {\n",
       "        vertical-align: top;\n",
       "    }\n",
       "\n",
       "    .dataframe thead th {\n",
       "        text-align: right;\n",
       "    }\n",
       "</style>\n",
       "<table border=\"1\" class=\"dataframe\">\n",
       "  <thead>\n",
       "    <tr style=\"text-align: right;\">\n",
       "      <th></th>\n",
       "      <th>SpecialDay_0_2</th>\n",
       "      <th>SpecialDay_0_4</th>\n",
       "      <th>SpecialDay_0_6</th>\n",
       "      <th>SpecialDay_0_8</th>\n",
       "      <th>SpecialDay_1_0</th>\n",
       "      <th>Month_Dec</th>\n",
       "      <th>Month_Feb</th>\n",
       "      <th>Month_Jul</th>\n",
       "      <th>Month_June</th>\n",
       "      <th>Month_Mar</th>\n",
       "      <th>...</th>\n",
       "      <th>Weekend_1</th>\n",
       "      <th>Administrative</th>\n",
       "      <th>Administrative_Duration</th>\n",
       "      <th>Informational</th>\n",
       "      <th>Informational_Duration</th>\n",
       "      <th>ProductRelated</th>\n",
       "      <th>ProductRelated_Duration</th>\n",
       "      <th>BounceRates</th>\n",
       "      <th>ExitRates</th>\n",
       "      <th>PageValues</th>\n",
       "    </tr>\n",
       "  </thead>\n",
       "  <tbody>\n",
       "    <tr>\n",
       "      <th>0</th>\n",
       "      <td>0.0</td>\n",
       "      <td>1.0</td>\n",
       "      <td>0.0</td>\n",
       "      <td>0.0</td>\n",
       "      <td>0.0</td>\n",
       "      <td>0.0</td>\n",
       "      <td>0.0</td>\n",
       "      <td>0.0</td>\n",
       "      <td>0.0</td>\n",
       "      <td>0.0</td>\n",
       "      <td>...</td>\n",
       "      <td>0.0</td>\n",
       "      <td>0.000000</td>\n",
       "      <td>0.000000</td>\n",
       "      <td>0.000000</td>\n",
       "      <td>0.000000</td>\n",
       "      <td>0.034043</td>\n",
       "      <td>0.009345</td>\n",
       "      <td>0.041667</td>\n",
       "      <td>0.104167</td>\n",
       "      <td>0.000000</td>\n",
       "    </tr>\n",
       "    <tr>\n",
       "      <th>1</th>\n",
       "      <td>0.0</td>\n",
       "      <td>0.0</td>\n",
       "      <td>0.0</td>\n",
       "      <td>0.0</td>\n",
       "      <td>0.0</td>\n",
       "      <td>1.0</td>\n",
       "      <td>0.0</td>\n",
       "      <td>0.0</td>\n",
       "      <td>0.0</td>\n",
       "      <td>0.0</td>\n",
       "      <td>...</td>\n",
       "      <td>0.0</td>\n",
       "      <td>0.038462</td>\n",
       "      <td>0.027657</td>\n",
       "      <td>0.000000</td>\n",
       "      <td>0.000000</td>\n",
       "      <td>0.076596</td>\n",
       "      <td>0.018928</td>\n",
       "      <td>0.027273</td>\n",
       "      <td>0.043357</td>\n",
       "      <td>0.000000</td>\n",
       "    </tr>\n",
       "    <tr>\n",
       "      <th>2</th>\n",
       "      <td>0.0</td>\n",
       "      <td>0.0</td>\n",
       "      <td>0.0</td>\n",
       "      <td>0.0</td>\n",
       "      <td>0.0</td>\n",
       "      <td>0.0</td>\n",
       "      <td>0.0</td>\n",
       "      <td>0.0</td>\n",
       "      <td>0.0</td>\n",
       "      <td>0.0</td>\n",
       "      <td>...</td>\n",
       "      <td>0.0</td>\n",
       "      <td>0.076923</td>\n",
       "      <td>0.033836</td>\n",
       "      <td>0.208333</td>\n",
       "      <td>0.059492</td>\n",
       "      <td>0.029787</td>\n",
       "      <td>0.032525</td>\n",
       "      <td>0.059524</td>\n",
       "      <td>0.225962</td>\n",
       "      <td>0.056461</td>\n",
       "    </tr>\n",
       "    <tr>\n",
       "      <th>3</th>\n",
       "      <td>0.0</td>\n",
       "      <td>0.0</td>\n",
       "      <td>0.0</td>\n",
       "      <td>0.0</td>\n",
       "      <td>0.0</td>\n",
       "      <td>0.0</td>\n",
       "      <td>0.0</td>\n",
       "      <td>0.0</td>\n",
       "      <td>0.0</td>\n",
       "      <td>1.0</td>\n",
       "      <td>...</td>\n",
       "      <td>0.0</td>\n",
       "      <td>0.230769</td>\n",
       "      <td>0.050337</td>\n",
       "      <td>0.000000</td>\n",
       "      <td>0.000000</td>\n",
       "      <td>0.039716</td>\n",
       "      <td>0.014886</td>\n",
       "      <td>0.000000</td>\n",
       "      <td>0.066667</td>\n",
       "      <td>0.144363</td>\n",
       "    </tr>\n",
       "    <tr>\n",
       "      <th>4</th>\n",
       "      <td>0.0</td>\n",
       "      <td>0.0</td>\n",
       "      <td>0.0</td>\n",
       "      <td>0.0</td>\n",
       "      <td>0.0</td>\n",
       "      <td>1.0</td>\n",
       "      <td>0.0</td>\n",
       "      <td>0.0</td>\n",
       "      <td>0.0</td>\n",
       "      <td>0.0</td>\n",
       "      <td>...</td>\n",
       "      <td>0.0</td>\n",
       "      <td>0.307692</td>\n",
       "      <td>0.045973</td>\n",
       "      <td>0.000000</td>\n",
       "      <td>0.000000</td>\n",
       "      <td>0.068085</td>\n",
       "      <td>0.023152</td>\n",
       "      <td>0.018868</td>\n",
       "      <td>0.040881</td>\n",
       "      <td>0.000000</td>\n",
       "    </tr>\n",
       "  </tbody>\n",
       "</table>\n",
       "<p>5 rows × 70 columns</p>\n",
       "</div>"
      ],
      "text/plain": [
       "   SpecialDay_0_2  SpecialDay_0_4  SpecialDay_0_6  SpecialDay_0_8  \\\n",
       "0             0.0             1.0             0.0             0.0   \n",
       "1             0.0             0.0             0.0             0.0   \n",
       "2             0.0             0.0             0.0             0.0   \n",
       "3             0.0             0.0             0.0             0.0   \n",
       "4             0.0             0.0             0.0             0.0   \n",
       "\n",
       "   SpecialDay_1_0  Month_Dec  Month_Feb  Month_Jul  Month_June  Month_Mar  \\\n",
       "0             0.0        0.0        0.0        0.0         0.0        0.0   \n",
       "1             0.0        1.0        0.0        0.0         0.0        0.0   \n",
       "2             0.0        0.0        0.0        0.0         0.0        0.0   \n",
       "3             0.0        0.0        0.0        0.0         0.0        1.0   \n",
       "4             0.0        1.0        0.0        0.0         0.0        0.0   \n",
       "\n",
       "   ...  Weekend_1  Administrative  Administrative_Duration  Informational  \\\n",
       "0  ...        0.0        0.000000                 0.000000       0.000000   \n",
       "1  ...        0.0        0.038462                 0.027657       0.000000   \n",
       "2  ...        0.0        0.076923                 0.033836       0.208333   \n",
       "3  ...        0.0        0.230769                 0.050337       0.000000   \n",
       "4  ...        0.0        0.307692                 0.045973       0.000000   \n",
       "\n",
       "   Informational_Duration  ProductRelated  ProductRelated_Duration  \\\n",
       "0                0.000000        0.034043                 0.009345   \n",
       "1                0.000000        0.076596                 0.018928   \n",
       "2                0.059492        0.029787                 0.032525   \n",
       "3                0.000000        0.039716                 0.014886   \n",
       "4                0.000000        0.068085                 0.023152   \n",
       "\n",
       "   BounceRates  ExitRates  PageValues  \n",
       "0     0.041667   0.104167    0.000000  \n",
       "1     0.027273   0.043357    0.000000  \n",
       "2     0.059524   0.225962    0.056461  \n",
       "3     0.000000   0.066667    0.144363  \n",
       "4     0.018868   0.040881    0.000000  \n",
       "\n",
       "[5 rows x 70 columns]"
      ]
     },
     "execution_count": 196,
     "metadata": {},
     "output_type": "execute_result"
    }
   ],
   "source": [
    "from sklearn.preprocessing import OneHotEncoder, MinMaxScaler\n",
    "from sklearn.compose import ColumnTransformer\n",
    "warnings.filterwarnings('ignore')\n",
    "\n",
    "categorical = ['SpecialDay', 'Month', 'OperatingSystems', 'Browser', 'Region', 'TrafficType', 'VisitorType', 'Weekend']\n",
    "numeric_features = ['Administrative', 'Administrative_Duration', 'Informational', 'Informational_Duration',\n",
    "                    'ProductRelated', 'ProductRelated_Duration', 'BounceRates', 'ExitRates', 'PageValues']\t\n",
    "\n",
    "ct = ColumnTransformer([\n",
    "    ('ohe', OneHotEncoder(handle_unknown='ignore', drop='first', sparse=False), categorical),\n",
    "    ('scaling', MinMaxScaler(), numeric_features)\n",
    "])\n",
    "\n",
    "X_train_transformed = ct.fit_transform(X_train)\n",
    "X_test_transformed = ct.transform(X_test)\n",
    "X_transformed = ct.transform(X)\n",
    "\n",
    "new_features = list(ct.named_transformers_['ohe'].get_feature_names_out())\n",
    "new_features = [el.replace(\".\", \"_\") for el in new_features]\n",
    "new_features.extend(numeric_features)\n",
    "\n",
    "X_train_transformed = pd.DataFrame(X_train_transformed, columns=new_features)\n",
    "X_test_transformed = pd.DataFrame(X_test_transformed, columns=new_features)\n",
    "\n",
    "X_train_transformed.head()"
   ]
  },
  {
   "cell_type": "code",
   "execution_count": 197,
   "id": "feb0dc07-e83c-48d2-8a99-d53bbb0c337e",
   "metadata": {},
   "outputs": [
    {
     "name": "stdout",
     "output_type": "stream",
     "text": [
      "Fitting 3 folds for each of 40 candidates, totalling 120 fits\n"
     ]
    },
    {
     "data": {
      "text/html": [
       "<style>#sk-container-id-4 {color: black;}#sk-container-id-4 pre{padding: 0;}#sk-container-id-4 div.sk-toggleable {background-color: white;}#sk-container-id-4 label.sk-toggleable__label {cursor: pointer;display: block;width: 100%;margin-bottom: 0;padding: 0.3em;box-sizing: border-box;text-align: center;}#sk-container-id-4 label.sk-toggleable__label-arrow:before {content: \"▸\";float: left;margin-right: 0.25em;color: #696969;}#sk-container-id-4 label.sk-toggleable__label-arrow:hover:before {color: black;}#sk-container-id-4 div.sk-estimator:hover label.sk-toggleable__label-arrow:before {color: black;}#sk-container-id-4 div.sk-toggleable__content {max-height: 0;max-width: 0;overflow: hidden;text-align: left;background-color: #f0f8ff;}#sk-container-id-4 div.sk-toggleable__content pre {margin: 0.2em;color: black;border-radius: 0.25em;background-color: #f0f8ff;}#sk-container-id-4 input.sk-toggleable__control:checked~div.sk-toggleable__content {max-height: 200px;max-width: 100%;overflow: auto;}#sk-container-id-4 input.sk-toggleable__control:checked~label.sk-toggleable__label-arrow:before {content: \"▾\";}#sk-container-id-4 div.sk-estimator input.sk-toggleable__control:checked~label.sk-toggleable__label {background-color: #d4ebff;}#sk-container-id-4 div.sk-label input.sk-toggleable__control:checked~label.sk-toggleable__label {background-color: #d4ebff;}#sk-container-id-4 input.sk-hidden--visually {border: 0;clip: rect(1px 1px 1px 1px);clip: rect(1px, 1px, 1px, 1px);height: 1px;margin: -1px;overflow: hidden;padding: 0;position: absolute;width: 1px;}#sk-container-id-4 div.sk-estimator {font-family: monospace;background-color: #f0f8ff;border: 1px dotted black;border-radius: 0.25em;box-sizing: border-box;margin-bottom: 0.5em;}#sk-container-id-4 div.sk-estimator:hover {background-color: #d4ebff;}#sk-container-id-4 div.sk-parallel-item::after {content: \"\";width: 100%;border-bottom: 1px solid gray;flex-grow: 1;}#sk-container-id-4 div.sk-label:hover label.sk-toggleable__label {background-color: #d4ebff;}#sk-container-id-4 div.sk-serial::before {content: \"\";position: absolute;border-left: 1px solid gray;box-sizing: border-box;top: 0;bottom: 0;left: 50%;z-index: 0;}#sk-container-id-4 div.sk-serial {display: flex;flex-direction: column;align-items: center;background-color: white;padding-right: 0.2em;padding-left: 0.2em;position: relative;}#sk-container-id-4 div.sk-item {position: relative;z-index: 1;}#sk-container-id-4 div.sk-parallel {display: flex;align-items: stretch;justify-content: center;background-color: white;position: relative;}#sk-container-id-4 div.sk-item::before, #sk-container-id-4 div.sk-parallel-item::before {content: \"\";position: absolute;border-left: 1px solid gray;box-sizing: border-box;top: 0;bottom: 0;left: 50%;z-index: -1;}#sk-container-id-4 div.sk-parallel-item {display: flex;flex-direction: column;z-index: 1;position: relative;background-color: white;}#sk-container-id-4 div.sk-parallel-item:first-child::after {align-self: flex-end;width: 50%;}#sk-container-id-4 div.sk-parallel-item:last-child::after {align-self: flex-start;width: 50%;}#sk-container-id-4 div.sk-parallel-item:only-child::after {width: 0;}#sk-container-id-4 div.sk-dashed-wrapped {border: 1px dashed gray;margin: 0 0.4em 0.5em 0.4em;box-sizing: border-box;padding-bottom: 0.4em;background-color: white;}#sk-container-id-4 div.sk-label label {font-family: monospace;font-weight: bold;display: inline-block;line-height: 1.2em;}#sk-container-id-4 div.sk-label-container {text-align: center;}#sk-container-id-4 div.sk-container {/* jupyter's `normalize.less` sets `[hidden] { display: none; }` but bootstrap.min.css set `[hidden] { display: none !important; }` so we also need the `!important` here to be able to override the default hidden behavior on the sphinx rendered scikit-learn.org. See: https://github.com/scikit-learn/scikit-learn/issues/21755 */display: inline-block !important;position: relative;}#sk-container-id-4 div.sk-text-repr-fallback {display: none;}</style><div id=\"sk-container-id-4\" class=\"sk-top-container\"><div class=\"sk-text-repr-fallback\"><pre>GridSearchCV(cv=3, estimator=MultinomialNB(), n_jobs=-1,\n",
       "             param_grid={&#x27;alpha&#x27;: array([0. , 0.5, 1. , 1.5, 2. , 2.5, 3. , 3.5, 4. , 4.5, 5. , 5.5, 6. ,\n",
       "       6.5, 7. , 7.5, 8. , 8.5, 9. , 9.5]),\n",
       "                         &#x27;fit_prior&#x27;: [True, False]},\n",
       "             scoring=&#x27;f1&#x27;, verbose=2)</pre><b>In a Jupyter environment, please rerun this cell to show the HTML representation or trust the notebook. <br />On GitHub, the HTML representation is unable to render, please try loading this page with nbviewer.org.</b></div><div class=\"sk-container\" hidden><div class=\"sk-item sk-dashed-wrapped\"><div class=\"sk-label-container\"><div class=\"sk-label sk-toggleable\"><input class=\"sk-toggleable__control sk-hidden--visually\" id=\"sk-estimator-id-10\" type=\"checkbox\" ><label for=\"sk-estimator-id-10\" class=\"sk-toggleable__label sk-toggleable__label-arrow\">GridSearchCV</label><div class=\"sk-toggleable__content\"><pre>GridSearchCV(cv=3, estimator=MultinomialNB(), n_jobs=-1,\n",
       "             param_grid={&#x27;alpha&#x27;: array([0. , 0.5, 1. , 1.5, 2. , 2.5, 3. , 3.5, 4. , 4.5, 5. , 5.5, 6. ,\n",
       "       6.5, 7. , 7.5, 8. , 8.5, 9. , 9.5]),\n",
       "                         &#x27;fit_prior&#x27;: [True, False]},\n",
       "             scoring=&#x27;f1&#x27;, verbose=2)</pre></div></div></div><div class=\"sk-parallel\"><div class=\"sk-parallel-item\"><div class=\"sk-item\"><div class=\"sk-label-container\"><div class=\"sk-label sk-toggleable\"><input class=\"sk-toggleable__control sk-hidden--visually\" id=\"sk-estimator-id-11\" type=\"checkbox\" ><label for=\"sk-estimator-id-11\" class=\"sk-toggleable__label sk-toggleable__label-arrow\">estimator: MultinomialNB</label><div class=\"sk-toggleable__content\"><pre>MultinomialNB()</pre></div></div></div><div class=\"sk-serial\"><div class=\"sk-item\"><div class=\"sk-estimator sk-toggleable\"><input class=\"sk-toggleable__control sk-hidden--visually\" id=\"sk-estimator-id-12\" type=\"checkbox\" ><label for=\"sk-estimator-id-12\" class=\"sk-toggleable__label sk-toggleable__label-arrow\">MultinomialNB</label><div class=\"sk-toggleable__content\"><pre>MultinomialNB()</pre></div></div></div></div></div></div></div></div></div></div>"
      ],
      "text/plain": [
       "GridSearchCV(cv=3, estimator=MultinomialNB(), n_jobs=-1,\n",
       "             param_grid={'alpha': array([0. , 0.5, 1. , 1.5, 2. , 2.5, 3. , 3.5, 4. , 4.5, 5. , 5.5, 6. ,\n",
       "       6.5, 7. , 7.5, 8. , 8.5, 9. , 9.5]),\n",
       "                         'fit_prior': [True, False]},\n",
       "             scoring='f1', verbose=2)"
      ]
     },
     "execution_count": 197,
     "metadata": {},
     "output_type": "execute_result"
    }
   ],
   "source": [
    "model = MultinomialNB()\n",
    "\n",
    "params = {'alpha' : np.arange(0, 10, 0.5),\n",
    "          'fit_prior' : [True, False]\n",
    "          }\n",
    "\n",
    "gs = GridSearchCV(model, params, scoring='f1', cv=3, n_jobs=-1, verbose=2)\n",
    "gs.fit(X_train_transformed, y_train)"
   ]
  },
  {
   "cell_type": "code",
   "execution_count": 201,
   "id": "128f887d-d075-4ce9-a99f-670372d88377",
   "metadata": {},
   "outputs": [
    {
     "name": "stdout",
     "output_type": "stream",
     "text": [
      "WARNING: Parameter shap='guess', but failed to guess the type of shap explainer to use for MultinomialNB. Defaulting to the model agnostic shap.KernelExplainer (shap='kernel'). However this will be slow, so if your model is compatible with e.g. shap.TreeExplainer or shap.LinearExplainer then pass shap='tree' or shap='linear'!\n",
      "WARNING: For shap='kernel', shap interaction values can unfortunately not be calculated!\n",
      "Note: shap values for shap='kernel' normally get calculated against X_background, but paramater X_background=None, so setting X_background=shap.sample(X, 50)...\n",
      "Generating self.shap_explainer = shap.KernelExplainer(model, X, link='identity')\n",
      "Building ExplainerDashboard..\n",
      "WARNING: the number of idxs (=3056) > max_idxs_in_dropdown(=1000). However with your installed version of dash(2.18.2) dropdown search may not work smoothly. You can downgrade to `pip install dash==2.6.2` which should work better for now...\n",
      "Detected notebook environment, consider setting mode='external', mode='inline' or mode='jupyterlab' to keep the notebook interactive while the dashboard is running...\n",
      "For this type of model and model_output interactions don't work, so setting shap_interaction=False...\n",
      "The explainer object has no decision_trees property. so setting decision_trees=False...\n",
      "Generating layout...\n",
      "Calculating shap values...\n"
     ]
    },
    {
     "data": {
      "application/vnd.jupyter.widget-view+json": {
       "model_id": "e0796b29547343fab45d5275bc8aca3a",
       "version_major": 2,
       "version_minor": 0
      },
      "text/plain": [
       "  0%|          | 0/3056 [00:00<?, ?it/s]"
      ]
     },
     "metadata": {},
     "output_type": "display_data"
    },
    {
     "name": "stdout",
     "output_type": "stream",
     "text": [
      "Calculating prediction probabilities...\n",
      "Calculating metrics...\n",
      "Calculating confusion matrices...\n",
      "Calculating classification_dfs...\n",
      "Calculating roc auc curves...\n",
      "Calculating pr auc curves...\n",
      "Calculating liftcurve_dfs...\n",
      "Calculating dependencies...\n",
      "Calculating permutation importances (if slow, try setting n_jobs parameter)...\n",
      "Calculating predictions...\n",
      "Calculating pred_percentiles...\n",
      "Reminder: you can store the explainer (including calculated dependencies) with explainer.dump('explainer.joblib') and reload with e.g. ClassifierExplainer.from_file('explainer.joblib')\n",
      "Registering callbacks...\n",
      "Starting ExplainerDashboard on http://10.10.140.46:8050\n"
     ]
    },
    {
     "ename": "ConnectionError",
     "evalue": "HTTPConnectionPool(host='0.0.0.0', port=8050): Max retries exceeded with url: /_alive_fb1404d6-4668-4c7b-91db-02c1e452d39c (Caused by NewConnectionError('<urllib3.connection.HTTPConnection object at 0x00000260A3C51750>: Failed to establish a new connection: [WinError 10049] Требуемый адрес для своего контекста неверен'))",
     "output_type": "error",
     "traceback": [
      "\u001b[1;31m---------------------------------------------------------------------------\u001b[0m",
      "\u001b[1;31mOSError\u001b[0m                                   Traceback (most recent call last)",
      "File \u001b[1;32m~\\anaconda3\\Lib\\site-packages\\urllib3\\connection.py:174\u001b[0m, in \u001b[0;36mHTTPConnection._new_conn\u001b[1;34m(self)\u001b[0m\n\u001b[0;32m    173\u001b[0m \u001b[38;5;28;01mtry\u001b[39;00m:\n\u001b[1;32m--> 174\u001b[0m     conn \u001b[38;5;241m=\u001b[39m connection\u001b[38;5;241m.\u001b[39mcreate_connection(\n\u001b[0;32m    175\u001b[0m         (\u001b[38;5;28mself\u001b[39m\u001b[38;5;241m.\u001b[39m_dns_host, \u001b[38;5;28mself\u001b[39m\u001b[38;5;241m.\u001b[39mport), \u001b[38;5;28mself\u001b[39m\u001b[38;5;241m.\u001b[39mtimeout, \u001b[38;5;241m*\u001b[39m\u001b[38;5;241m*\u001b[39mextra_kw\n\u001b[0;32m    176\u001b[0m     )\n\u001b[0;32m    178\u001b[0m \u001b[38;5;28;01mexcept\u001b[39;00m SocketTimeout:\n",
      "File \u001b[1;32m~\\anaconda3\\Lib\\site-packages\\urllib3\\util\\connection.py:95\u001b[0m, in \u001b[0;36mcreate_connection\u001b[1;34m(address, timeout, source_address, socket_options)\u001b[0m\n\u001b[0;32m     94\u001b[0m \u001b[38;5;28;01mif\u001b[39;00m err \u001b[38;5;129;01mis\u001b[39;00m \u001b[38;5;129;01mnot\u001b[39;00m \u001b[38;5;28;01mNone\u001b[39;00m:\n\u001b[1;32m---> 95\u001b[0m     \u001b[38;5;28;01mraise\u001b[39;00m err\n\u001b[0;32m     97\u001b[0m \u001b[38;5;28;01mraise\u001b[39;00m socket\u001b[38;5;241m.\u001b[39merror(\u001b[38;5;124m\"\u001b[39m\u001b[38;5;124mgetaddrinfo returns an empty list\u001b[39m\u001b[38;5;124m\"\u001b[39m)\n",
      "File \u001b[1;32m~\\anaconda3\\Lib\\site-packages\\urllib3\\util\\connection.py:85\u001b[0m, in \u001b[0;36mcreate_connection\u001b[1;34m(address, timeout, source_address, socket_options)\u001b[0m\n\u001b[0;32m     84\u001b[0m     sock\u001b[38;5;241m.\u001b[39mbind(source_address)\n\u001b[1;32m---> 85\u001b[0m sock\u001b[38;5;241m.\u001b[39mconnect(sa)\n\u001b[0;32m     86\u001b[0m \u001b[38;5;28;01mreturn\u001b[39;00m sock\n",
      "\u001b[1;31mOSError\u001b[0m: [WinError 10049] Требуемый адрес для своего контекста неверен",
      "\nDuring handling of the above exception, another exception occurred:\n",
      "\u001b[1;31mNewConnectionError\u001b[0m                        Traceback (most recent call last)",
      "File \u001b[1;32m~\\anaconda3\\Lib\\site-packages\\urllib3\\connectionpool.py:714\u001b[0m, in \u001b[0;36mHTTPConnectionPool.urlopen\u001b[1;34m(self, method, url, body, headers, retries, redirect, assert_same_host, timeout, pool_timeout, release_conn, chunked, body_pos, **response_kw)\u001b[0m\n\u001b[0;32m    713\u001b[0m \u001b[38;5;66;03m# Make the request on the httplib connection object.\u001b[39;00m\n\u001b[1;32m--> 714\u001b[0m httplib_response \u001b[38;5;241m=\u001b[39m \u001b[38;5;28mself\u001b[39m\u001b[38;5;241m.\u001b[39m_make_request(\n\u001b[0;32m    715\u001b[0m     conn,\n\u001b[0;32m    716\u001b[0m     method,\n\u001b[0;32m    717\u001b[0m     url,\n\u001b[0;32m    718\u001b[0m     timeout\u001b[38;5;241m=\u001b[39mtimeout_obj,\n\u001b[0;32m    719\u001b[0m     body\u001b[38;5;241m=\u001b[39mbody,\n\u001b[0;32m    720\u001b[0m     headers\u001b[38;5;241m=\u001b[39mheaders,\n\u001b[0;32m    721\u001b[0m     chunked\u001b[38;5;241m=\u001b[39mchunked,\n\u001b[0;32m    722\u001b[0m )\n\u001b[0;32m    724\u001b[0m \u001b[38;5;66;03m# If we're going to release the connection in ``finally:``, then\u001b[39;00m\n\u001b[0;32m    725\u001b[0m \u001b[38;5;66;03m# the response doesn't need to know about the connection. Otherwise\u001b[39;00m\n\u001b[0;32m    726\u001b[0m \u001b[38;5;66;03m# it will also try to release it and we'll have a double-release\u001b[39;00m\n\u001b[0;32m    727\u001b[0m \u001b[38;5;66;03m# mess.\u001b[39;00m\n",
      "File \u001b[1;32m~\\anaconda3\\Lib\\site-packages\\urllib3\\connectionpool.py:415\u001b[0m, in \u001b[0;36mHTTPConnectionPool._make_request\u001b[1;34m(self, conn, method, url, timeout, chunked, **httplib_request_kw)\u001b[0m\n\u001b[0;32m    414\u001b[0m     \u001b[38;5;28;01melse\u001b[39;00m:\n\u001b[1;32m--> 415\u001b[0m         conn\u001b[38;5;241m.\u001b[39mrequest(method, url, \u001b[38;5;241m*\u001b[39m\u001b[38;5;241m*\u001b[39mhttplib_request_kw)\n\u001b[0;32m    417\u001b[0m \u001b[38;5;66;03m# We are swallowing BrokenPipeError (errno.EPIPE) since the server is\u001b[39;00m\n\u001b[0;32m    418\u001b[0m \u001b[38;5;66;03m# legitimately able to close the connection after sending a valid response.\u001b[39;00m\n\u001b[0;32m    419\u001b[0m \u001b[38;5;66;03m# With this behaviour, the received response is still readable.\u001b[39;00m\n",
      "File \u001b[1;32m~\\anaconda3\\Lib\\site-packages\\urllib3\\connection.py:244\u001b[0m, in \u001b[0;36mHTTPConnection.request\u001b[1;34m(self, method, url, body, headers)\u001b[0m\n\u001b[0;32m    243\u001b[0m     headers[\u001b[38;5;124m\"\u001b[39m\u001b[38;5;124mUser-Agent\u001b[39m\u001b[38;5;124m\"\u001b[39m] \u001b[38;5;241m=\u001b[39m _get_default_user_agent()\n\u001b[1;32m--> 244\u001b[0m \u001b[38;5;28msuper\u001b[39m(HTTPConnection, \u001b[38;5;28mself\u001b[39m)\u001b[38;5;241m.\u001b[39mrequest(method, url, body\u001b[38;5;241m=\u001b[39mbody, headers\u001b[38;5;241m=\u001b[39mheaders)\n",
      "File \u001b[1;32m~\\anaconda3\\Lib\\http\\client.py:1286\u001b[0m, in \u001b[0;36mHTTPConnection.request\u001b[1;34m(self, method, url, body, headers, encode_chunked)\u001b[0m\n\u001b[0;32m   1285\u001b[0m \u001b[38;5;250m\u001b[39m\u001b[38;5;124;03m\"\"\"Send a complete request to the server.\"\"\"\u001b[39;00m\n\u001b[1;32m-> 1286\u001b[0m \u001b[38;5;28mself\u001b[39m\u001b[38;5;241m.\u001b[39m_send_request(method, url, body, headers, encode_chunked)\n",
      "File \u001b[1;32m~\\anaconda3\\Lib\\http\\client.py:1332\u001b[0m, in \u001b[0;36mHTTPConnection._send_request\u001b[1;34m(self, method, url, body, headers, encode_chunked)\u001b[0m\n\u001b[0;32m   1331\u001b[0m     body \u001b[38;5;241m=\u001b[39m _encode(body, \u001b[38;5;124m'\u001b[39m\u001b[38;5;124mbody\u001b[39m\u001b[38;5;124m'\u001b[39m)\n\u001b[1;32m-> 1332\u001b[0m \u001b[38;5;28mself\u001b[39m\u001b[38;5;241m.\u001b[39mendheaders(body, encode_chunked\u001b[38;5;241m=\u001b[39mencode_chunked)\n",
      "File \u001b[1;32m~\\anaconda3\\Lib\\http\\client.py:1281\u001b[0m, in \u001b[0;36mHTTPConnection.endheaders\u001b[1;34m(self, message_body, encode_chunked)\u001b[0m\n\u001b[0;32m   1280\u001b[0m     \u001b[38;5;28;01mraise\u001b[39;00m CannotSendHeader()\n\u001b[1;32m-> 1281\u001b[0m \u001b[38;5;28mself\u001b[39m\u001b[38;5;241m.\u001b[39m_send_output(message_body, encode_chunked\u001b[38;5;241m=\u001b[39mencode_chunked)\n",
      "File \u001b[1;32m~\\anaconda3\\Lib\\http\\client.py:1041\u001b[0m, in \u001b[0;36mHTTPConnection._send_output\u001b[1;34m(self, message_body, encode_chunked)\u001b[0m\n\u001b[0;32m   1040\u001b[0m \u001b[38;5;28;01mdel\u001b[39;00m \u001b[38;5;28mself\u001b[39m\u001b[38;5;241m.\u001b[39m_buffer[:]\n\u001b[1;32m-> 1041\u001b[0m \u001b[38;5;28mself\u001b[39m\u001b[38;5;241m.\u001b[39msend(msg)\n\u001b[0;32m   1043\u001b[0m \u001b[38;5;28;01mif\u001b[39;00m message_body \u001b[38;5;129;01mis\u001b[39;00m \u001b[38;5;129;01mnot\u001b[39;00m \u001b[38;5;28;01mNone\u001b[39;00m:\n\u001b[0;32m   1044\u001b[0m \n\u001b[0;32m   1045\u001b[0m     \u001b[38;5;66;03m# create a consistent interface to message_body\u001b[39;00m\n",
      "File \u001b[1;32m~\\anaconda3\\Lib\\http\\client.py:979\u001b[0m, in \u001b[0;36mHTTPConnection.send\u001b[1;34m(self, data)\u001b[0m\n\u001b[0;32m    978\u001b[0m \u001b[38;5;28;01mif\u001b[39;00m \u001b[38;5;28mself\u001b[39m\u001b[38;5;241m.\u001b[39mauto_open:\n\u001b[1;32m--> 979\u001b[0m     \u001b[38;5;28mself\u001b[39m\u001b[38;5;241m.\u001b[39mconnect()\n\u001b[0;32m    980\u001b[0m \u001b[38;5;28;01melse\u001b[39;00m:\n",
      "File \u001b[1;32m~\\anaconda3\\Lib\\site-packages\\urllib3\\connection.py:205\u001b[0m, in \u001b[0;36mHTTPConnection.connect\u001b[1;34m(self)\u001b[0m\n\u001b[0;32m    204\u001b[0m \u001b[38;5;28;01mdef\u001b[39;00m \u001b[38;5;21mconnect\u001b[39m(\u001b[38;5;28mself\u001b[39m):\n\u001b[1;32m--> 205\u001b[0m     conn \u001b[38;5;241m=\u001b[39m \u001b[38;5;28mself\u001b[39m\u001b[38;5;241m.\u001b[39m_new_conn()\n\u001b[0;32m    206\u001b[0m     \u001b[38;5;28mself\u001b[39m\u001b[38;5;241m.\u001b[39m_prepare_conn(conn)\n",
      "File \u001b[1;32m~\\anaconda3\\Lib\\site-packages\\urllib3\\connection.py:186\u001b[0m, in \u001b[0;36mHTTPConnection._new_conn\u001b[1;34m(self)\u001b[0m\n\u001b[0;32m    185\u001b[0m \u001b[38;5;28;01mexcept\u001b[39;00m SocketError \u001b[38;5;28;01mas\u001b[39;00m e:\n\u001b[1;32m--> 186\u001b[0m     \u001b[38;5;28;01mraise\u001b[39;00m NewConnectionError(\n\u001b[0;32m    187\u001b[0m         \u001b[38;5;28mself\u001b[39m, \u001b[38;5;124m\"\u001b[39m\u001b[38;5;124mFailed to establish a new connection: \u001b[39m\u001b[38;5;132;01m%s\u001b[39;00m\u001b[38;5;124m\"\u001b[39m \u001b[38;5;241m%\u001b[39m e\n\u001b[0;32m    188\u001b[0m     )\n\u001b[0;32m    190\u001b[0m \u001b[38;5;28;01mreturn\u001b[39;00m conn\n",
      "\u001b[1;31mNewConnectionError\u001b[0m: <urllib3.connection.HTTPConnection object at 0x00000260A3C51750>: Failed to establish a new connection: [WinError 10049] Требуемый адрес для своего контекста неверен",
      "\nDuring handling of the above exception, another exception occurred:\n",
      "\u001b[1;31mMaxRetryError\u001b[0m                             Traceback (most recent call last)",
      "File \u001b[1;32m~\\anaconda3\\Lib\\site-packages\\requests\\adapters.py:486\u001b[0m, in \u001b[0;36mHTTPAdapter.send\u001b[1;34m(self, request, stream, timeout, verify, cert, proxies)\u001b[0m\n\u001b[0;32m    485\u001b[0m \u001b[38;5;28;01mtry\u001b[39;00m:\n\u001b[1;32m--> 486\u001b[0m     resp \u001b[38;5;241m=\u001b[39m conn\u001b[38;5;241m.\u001b[39murlopen(\n\u001b[0;32m    487\u001b[0m         method\u001b[38;5;241m=\u001b[39mrequest\u001b[38;5;241m.\u001b[39mmethod,\n\u001b[0;32m    488\u001b[0m         url\u001b[38;5;241m=\u001b[39murl,\n\u001b[0;32m    489\u001b[0m         body\u001b[38;5;241m=\u001b[39mrequest\u001b[38;5;241m.\u001b[39mbody,\n\u001b[0;32m    490\u001b[0m         headers\u001b[38;5;241m=\u001b[39mrequest\u001b[38;5;241m.\u001b[39mheaders,\n\u001b[0;32m    491\u001b[0m         redirect\u001b[38;5;241m=\u001b[39m\u001b[38;5;28;01mFalse\u001b[39;00m,\n\u001b[0;32m    492\u001b[0m         assert_same_host\u001b[38;5;241m=\u001b[39m\u001b[38;5;28;01mFalse\u001b[39;00m,\n\u001b[0;32m    493\u001b[0m         preload_content\u001b[38;5;241m=\u001b[39m\u001b[38;5;28;01mFalse\u001b[39;00m,\n\u001b[0;32m    494\u001b[0m         decode_content\u001b[38;5;241m=\u001b[39m\u001b[38;5;28;01mFalse\u001b[39;00m,\n\u001b[0;32m    495\u001b[0m         retries\u001b[38;5;241m=\u001b[39m\u001b[38;5;28mself\u001b[39m\u001b[38;5;241m.\u001b[39mmax_retries,\n\u001b[0;32m    496\u001b[0m         timeout\u001b[38;5;241m=\u001b[39mtimeout,\n\u001b[0;32m    497\u001b[0m         chunked\u001b[38;5;241m=\u001b[39mchunked,\n\u001b[0;32m    498\u001b[0m     )\n\u001b[0;32m    500\u001b[0m \u001b[38;5;28;01mexcept\u001b[39;00m (ProtocolError, \u001b[38;5;167;01mOSError\u001b[39;00m) \u001b[38;5;28;01mas\u001b[39;00m err:\n",
      "File \u001b[1;32m~\\anaconda3\\Lib\\site-packages\\urllib3\\connectionpool.py:798\u001b[0m, in \u001b[0;36mHTTPConnectionPool.urlopen\u001b[1;34m(self, method, url, body, headers, retries, redirect, assert_same_host, timeout, pool_timeout, release_conn, chunked, body_pos, **response_kw)\u001b[0m\n\u001b[0;32m    796\u001b[0m     e \u001b[38;5;241m=\u001b[39m ProtocolError(\u001b[38;5;124m\"\u001b[39m\u001b[38;5;124mConnection aborted.\u001b[39m\u001b[38;5;124m\"\u001b[39m, e)\n\u001b[1;32m--> 798\u001b[0m retries \u001b[38;5;241m=\u001b[39m retries\u001b[38;5;241m.\u001b[39mincrement(\n\u001b[0;32m    799\u001b[0m     method, url, error\u001b[38;5;241m=\u001b[39me, _pool\u001b[38;5;241m=\u001b[39m\u001b[38;5;28mself\u001b[39m, _stacktrace\u001b[38;5;241m=\u001b[39msys\u001b[38;5;241m.\u001b[39mexc_info()[\u001b[38;5;241m2\u001b[39m]\n\u001b[0;32m    800\u001b[0m )\n\u001b[0;32m    801\u001b[0m retries\u001b[38;5;241m.\u001b[39msleep()\n",
      "File \u001b[1;32m~\\anaconda3\\Lib\\site-packages\\urllib3\\util\\retry.py:592\u001b[0m, in \u001b[0;36mRetry.increment\u001b[1;34m(self, method, url, response, error, _pool, _stacktrace)\u001b[0m\n\u001b[0;32m    591\u001b[0m \u001b[38;5;28;01mif\u001b[39;00m new_retry\u001b[38;5;241m.\u001b[39mis_exhausted():\n\u001b[1;32m--> 592\u001b[0m     \u001b[38;5;28;01mraise\u001b[39;00m MaxRetryError(_pool, url, error \u001b[38;5;129;01mor\u001b[39;00m ResponseError(cause))\n\u001b[0;32m    594\u001b[0m log\u001b[38;5;241m.\u001b[39mdebug(\u001b[38;5;124m\"\u001b[39m\u001b[38;5;124mIncremented Retry for (url=\u001b[39m\u001b[38;5;124m'\u001b[39m\u001b[38;5;132;01m%s\u001b[39;00m\u001b[38;5;124m'\u001b[39m\u001b[38;5;124m): \u001b[39m\u001b[38;5;132;01m%r\u001b[39;00m\u001b[38;5;124m\"\u001b[39m, url, new_retry)\n",
      "\u001b[1;31mMaxRetryError\u001b[0m: HTTPConnectionPool(host='0.0.0.0', port=8050): Max retries exceeded with url: /_alive_fb1404d6-4668-4c7b-91db-02c1e452d39c (Caused by NewConnectionError('<urllib3.connection.HTTPConnection object at 0x00000260A3C51750>: Failed to establish a new connection: [WinError 10049] Требуемый адрес для своего контекста неверен'))",
      "\nDuring handling of the above exception, another exception occurred:\n",
      "\u001b[1;31mConnectionError\u001b[0m                           Traceback (most recent call last)",
      "Cell \u001b[1;32mIn[201], line 5\u001b[0m\n\u001b[0;32m      1\u001b[0m explainer \u001b[38;5;241m=\u001b[39m ClassifierExplainer(gs\u001b[38;5;241m.\u001b[39mbest_estimator_, X_test_transformed, y_test)\n\u001b[0;32m      3\u001b[0m db \u001b[38;5;241m=\u001b[39m ExplainerDashboard(explainer)\n\u001b[1;32m----> 5\u001b[0m db\u001b[38;5;241m.\u001b[39mrun()\n",
      "File \u001b[1;32m~\\anaconda3\\Lib\\site-packages\\explainerdashboard\\dashboards.py:1278\u001b[0m, in \u001b[0;36mExplainerDashboard.run\u001b[1;34m(self, port, host, use_waitress, mode, **kwargs)\u001b[0m\n\u001b[0;32m   1276\u001b[0m         serve(app\u001b[38;5;241m.\u001b[39mserver, host\u001b[38;5;241m=\u001b[39mhost, port\u001b[38;5;241m=\u001b[39mport)\n\u001b[0;32m   1277\u001b[0m     \u001b[38;5;28;01melse\u001b[39;00m:\n\u001b[1;32m-> 1278\u001b[0m         app\u001b[38;5;241m.\u001b[39mrun_server(port\u001b[38;5;241m=\u001b[39mport, host\u001b[38;5;241m=\u001b[39mhost, \u001b[38;5;241m*\u001b[39m\u001b[38;5;241m*\u001b[39mkwargs)\n\u001b[0;32m   1279\u001b[0m \u001b[38;5;28;01melse\u001b[39;00m:\n\u001b[0;32m   1280\u001b[0m     \u001b[38;5;28;01mif\u001b[39;00m \u001b[38;5;28mself\u001b[39m\u001b[38;5;241m.\u001b[39mmode \u001b[38;5;241m==\u001b[39m \u001b[38;5;124m\"\u001b[39m\u001b[38;5;124mdash\u001b[39m\u001b[38;5;124m\"\u001b[39m:\n",
      "File \u001b[1;32m~\\anaconda3\\Lib\\site-packages\\dash\\dash.py:2287\u001b[0m, in \u001b[0;36mDash.run_server\u001b[1;34m(self, *args, **kwargs)\u001b[0m\n\u001b[0;32m   2277\u001b[0m \u001b[38;5;250m\u001b[39m\u001b[38;5;124;03m\"\"\"`run_server` is a deprecated alias of `run` and may be removed in a\u001b[39;00m\n\u001b[0;32m   2278\u001b[0m \u001b[38;5;124;03mfuture version. We recommend using `app.run` instead.\u001b[39;00m\n\u001b[0;32m   2279\u001b[0m \n\u001b[0;32m   2280\u001b[0m \u001b[38;5;124;03mSee `app.run` for usage information.\u001b[39;00m\n\u001b[0;32m   2281\u001b[0m \u001b[38;5;124;03m\"\"\"\u001b[39;00m\n\u001b[0;32m   2282\u001b[0m warnings\u001b[38;5;241m.\u001b[39mwarn(\n\u001b[0;32m   2283\u001b[0m     \u001b[38;5;167;01mDeprecationWarning\u001b[39;00m(\n\u001b[0;32m   2284\u001b[0m         \u001b[38;5;124m\"\u001b[39m\u001b[38;5;124mDash.run_server is deprecated and will be removed in Dash 3.0\u001b[39m\u001b[38;5;124m\"\u001b[39m\n\u001b[0;32m   2285\u001b[0m     )\n\u001b[0;32m   2286\u001b[0m )\n\u001b[1;32m-> 2287\u001b[0m \u001b[38;5;28mself\u001b[39m\u001b[38;5;241m.\u001b[39mrun(\u001b[38;5;241m*\u001b[39margs, \u001b[38;5;241m*\u001b[39m\u001b[38;5;241m*\u001b[39mkwargs)\n",
      "File \u001b[1;32m~\\anaconda3\\Lib\\site-packages\\dash\\dash.py:2173\u001b[0m, in \u001b[0;36mDash.run\u001b[1;34m(self, host, port, proxy, debug, jupyter_mode, jupyter_width, jupyter_height, jupyter_server_url, dev_tools_ui, dev_tools_props_check, dev_tools_serve_dev_bundles, dev_tools_hot_reload, dev_tools_hot_reload_interval, dev_tools_hot_reload_watch_interval, dev_tools_hot_reload_max_retry, dev_tools_silence_routes_logging, dev_tools_prune_errors, **flask_run_options)\u001b[0m\n\u001b[0;32m   2170\u001b[0m             extra_files\u001b[38;5;241m.\u001b[39mappend(path)\n\u001b[0;32m   2172\u001b[0m \u001b[38;5;28;01mif\u001b[39;00m jupyter_dash\u001b[38;5;241m.\u001b[39mactive:\n\u001b[1;32m-> 2173\u001b[0m     jupyter_dash\u001b[38;5;241m.\u001b[39mrun_app(\n\u001b[0;32m   2174\u001b[0m         \u001b[38;5;28mself\u001b[39m,\n\u001b[0;32m   2175\u001b[0m         mode\u001b[38;5;241m=\u001b[39mjupyter_mode,\n\u001b[0;32m   2176\u001b[0m         width\u001b[38;5;241m=\u001b[39mjupyter_width,\n\u001b[0;32m   2177\u001b[0m         height\u001b[38;5;241m=\u001b[39mjupyter_height,\n\u001b[0;32m   2178\u001b[0m         host\u001b[38;5;241m=\u001b[39mhost,\n\u001b[0;32m   2179\u001b[0m         port\u001b[38;5;241m=\u001b[39mport,\n\u001b[0;32m   2180\u001b[0m         server_url\u001b[38;5;241m=\u001b[39mjupyter_server_url,\n\u001b[0;32m   2181\u001b[0m     )\n\u001b[0;32m   2182\u001b[0m \u001b[38;5;28;01melse\u001b[39;00m:\n\u001b[0;32m   2183\u001b[0m     \u001b[38;5;28mself\u001b[39m\u001b[38;5;241m.\u001b[39mserver\u001b[38;5;241m.\u001b[39mrun(host\u001b[38;5;241m=\u001b[39mhost, port\u001b[38;5;241m=\u001b[39mport, debug\u001b[38;5;241m=\u001b[39mdebug, \u001b[38;5;241m*\u001b[39m\u001b[38;5;241m*\u001b[39mflask_run_options)\n",
      "File \u001b[1;32m~\\anaconda3\\Lib\\site-packages\\dash\\_jupyter.py:405\u001b[0m, in \u001b[0;36mJupyterDash.run_app\u001b[1;34m(self, app, mode, width, height, host, port, server_url)\u001b[0m\n\u001b[0;32m    403\u001b[0m     display(HTML(msg))\n\u001b[0;32m    404\u001b[0m \u001b[38;5;28;01melse\u001b[39;00m:\n\u001b[1;32m--> 405\u001b[0m     \u001b[38;5;28;01mraise\u001b[39;00m final_error\n",
      "File \u001b[1;32m~\\anaconda3\\Lib\\site-packages\\dash\\_jupyter.py:392\u001b[0m, in \u001b[0;36mJupyterDash.run_app\u001b[1;34m(self, app, mode, width, height, host, port, server_url)\u001b[0m\n\u001b[0;32m    389\u001b[0m         \u001b[38;5;28;01mraise\u001b[39;00m err\n\u001b[0;32m    391\u001b[0m \u001b[38;5;28;01mtry\u001b[39;00m:\n\u001b[1;32m--> 392\u001b[0m     wait_for_app()\n\u001b[0;32m    394\u001b[0m     \u001b[38;5;28;01mif\u001b[39;00m \u001b[38;5;28mself\u001b[39m\u001b[38;5;241m.\u001b[39min_colab:\n\u001b[0;32m    395\u001b[0m         JupyterDash\u001b[38;5;241m.\u001b[39m_display_in_colab(dashboard_url, port, mode, width, height)\n",
      "File \u001b[1;32m~\\anaconda3\\Lib\\site-packages\\retrying.py:56\u001b[0m, in \u001b[0;36mretry.<locals>.wrap.<locals>.wrapped_f\u001b[1;34m(*args, **kw)\u001b[0m\n\u001b[0;32m     54\u001b[0m \u001b[38;5;129m@six\u001b[39m\u001b[38;5;241m.\u001b[39mwraps(f)\n\u001b[0;32m     55\u001b[0m \u001b[38;5;28;01mdef\u001b[39;00m \u001b[38;5;21mwrapped_f\u001b[39m(\u001b[38;5;241m*\u001b[39margs, \u001b[38;5;241m*\u001b[39m\u001b[38;5;241m*\u001b[39mkw):\n\u001b[1;32m---> 56\u001b[0m     \u001b[38;5;28;01mreturn\u001b[39;00m Retrying(\u001b[38;5;241m*\u001b[39mdargs, \u001b[38;5;241m*\u001b[39m\u001b[38;5;241m*\u001b[39mdkw)\u001b[38;5;241m.\u001b[39mcall(f, \u001b[38;5;241m*\u001b[39margs, \u001b[38;5;241m*\u001b[39m\u001b[38;5;241m*\u001b[39mkw)\n",
      "File \u001b[1;32m~\\anaconda3\\Lib\\site-packages\\retrying.py:266\u001b[0m, in \u001b[0;36mRetrying.call\u001b[1;34m(self, fn, *args, **kwargs)\u001b[0m\n\u001b[0;32m    263\u001b[0m \u001b[38;5;28;01mif\u001b[39;00m \u001b[38;5;28mself\u001b[39m\u001b[38;5;241m.\u001b[39mstop(attempt_number, delay_since_first_attempt_ms):\n\u001b[0;32m    264\u001b[0m     \u001b[38;5;28;01mif\u001b[39;00m \u001b[38;5;129;01mnot\u001b[39;00m \u001b[38;5;28mself\u001b[39m\u001b[38;5;241m.\u001b[39m_wrap_exception \u001b[38;5;129;01mand\u001b[39;00m attempt\u001b[38;5;241m.\u001b[39mhas_exception:\n\u001b[0;32m    265\u001b[0m         \u001b[38;5;66;03m# get() on an attempt with an exception should cause it to be raised, but raise just in case\u001b[39;00m\n\u001b[1;32m--> 266\u001b[0m         \u001b[38;5;28;01mraise\u001b[39;00m attempt\u001b[38;5;241m.\u001b[39mget()\n\u001b[0;32m    267\u001b[0m     \u001b[38;5;28;01melse\u001b[39;00m:\n\u001b[0;32m    268\u001b[0m         \u001b[38;5;28;01mraise\u001b[39;00m RetryError(attempt)\n",
      "File \u001b[1;32m~\\anaconda3\\Lib\\site-packages\\retrying.py:301\u001b[0m, in \u001b[0;36mAttempt.get\u001b[1;34m(self, wrap_exception)\u001b[0m\n\u001b[0;32m    299\u001b[0m         \u001b[38;5;28;01mraise\u001b[39;00m RetryError(\u001b[38;5;28mself\u001b[39m)\n\u001b[0;32m    300\u001b[0m     \u001b[38;5;28;01melse\u001b[39;00m:\n\u001b[1;32m--> 301\u001b[0m         six\u001b[38;5;241m.\u001b[39mreraise(\u001b[38;5;28mself\u001b[39m\u001b[38;5;241m.\u001b[39mvalue[\u001b[38;5;241m0\u001b[39m], \u001b[38;5;28mself\u001b[39m\u001b[38;5;241m.\u001b[39mvalue[\u001b[38;5;241m1\u001b[39m], \u001b[38;5;28mself\u001b[39m\u001b[38;5;241m.\u001b[39mvalue[\u001b[38;5;241m2\u001b[39m])\n\u001b[0;32m    302\u001b[0m \u001b[38;5;28;01melse\u001b[39;00m:\n\u001b[0;32m    303\u001b[0m     \u001b[38;5;28;01mreturn\u001b[39;00m \u001b[38;5;28mself\u001b[39m\u001b[38;5;241m.\u001b[39mvalue\n",
      "File \u001b[1;32m~\\anaconda3\\Lib\\site-packages\\six.py:719\u001b[0m, in \u001b[0;36mreraise\u001b[1;34m(tp, value, tb)\u001b[0m\n\u001b[0;32m    717\u001b[0m     \u001b[38;5;28;01mif\u001b[39;00m value\u001b[38;5;241m.\u001b[39m__traceback__ \u001b[38;5;129;01mis\u001b[39;00m \u001b[38;5;129;01mnot\u001b[39;00m tb:\n\u001b[0;32m    718\u001b[0m         \u001b[38;5;28;01mraise\u001b[39;00m value\u001b[38;5;241m.\u001b[39mwith_traceback(tb)\n\u001b[1;32m--> 719\u001b[0m     \u001b[38;5;28;01mraise\u001b[39;00m value\n\u001b[0;32m    720\u001b[0m \u001b[38;5;28;01mfinally\u001b[39;00m:\n\u001b[0;32m    721\u001b[0m     value \u001b[38;5;241m=\u001b[39m \u001b[38;5;28;01mNone\u001b[39;00m\n",
      "File \u001b[1;32m~\\anaconda3\\Lib\\site-packages\\retrying.py:251\u001b[0m, in \u001b[0;36mRetrying.call\u001b[1;34m(self, fn, *args, **kwargs)\u001b[0m\n\u001b[0;32m    248\u001b[0m     \u001b[38;5;28mself\u001b[39m\u001b[38;5;241m.\u001b[39m_before_attempts(attempt_number)\n\u001b[0;32m    250\u001b[0m \u001b[38;5;28;01mtry\u001b[39;00m:\n\u001b[1;32m--> 251\u001b[0m     attempt \u001b[38;5;241m=\u001b[39m Attempt(fn(\u001b[38;5;241m*\u001b[39margs, \u001b[38;5;241m*\u001b[39m\u001b[38;5;241m*\u001b[39mkwargs), attempt_number, \u001b[38;5;28;01mFalse\u001b[39;00m)\n\u001b[0;32m    252\u001b[0m \u001b[38;5;28;01mexcept\u001b[39;00m:\n\u001b[0;32m    253\u001b[0m     tb \u001b[38;5;241m=\u001b[39m sys\u001b[38;5;241m.\u001b[39mexc_info()\n",
      "File \u001b[1;32m~\\anaconda3\\Lib\\site-packages\\dash\\_jupyter.py:389\u001b[0m, in \u001b[0;36mJupyterDash.run_app.<locals>.wait_for_app\u001b[1;34m()\u001b[0m\n\u001b[0;32m    387\u001b[0m \u001b[38;5;28;01mexcept\u001b[39;00m requests\u001b[38;5;241m.\u001b[39mConnectionError \u001b[38;5;28;01mas\u001b[39;00m err:\n\u001b[0;32m    388\u001b[0m     _get_error()\n\u001b[1;32m--> 389\u001b[0m     \u001b[38;5;28;01mraise\u001b[39;00m err\n",
      "File \u001b[1;32m~\\anaconda3\\Lib\\site-packages\\dash\\_jupyter.py:376\u001b[0m, in \u001b[0;36mJupyterDash.run_app.<locals>.wait_for_app\u001b[1;34m()\u001b[0m\n\u001b[0;32m    374\u001b[0m _get_error()\n\u001b[0;32m    375\u001b[0m \u001b[38;5;28;01mtry\u001b[39;00m:\n\u001b[1;32m--> 376\u001b[0m     req \u001b[38;5;241m=\u001b[39m requests\u001b[38;5;241m.\u001b[39mget(alive_url)\n\u001b[0;32m    377\u001b[0m     res \u001b[38;5;241m=\u001b[39m req\u001b[38;5;241m.\u001b[39mcontent\u001b[38;5;241m.\u001b[39mdecode()\n\u001b[0;32m    378\u001b[0m     \u001b[38;5;28;01mif\u001b[39;00m req\u001b[38;5;241m.\u001b[39mstatus_code \u001b[38;5;241m!=\u001b[39m \u001b[38;5;241m200\u001b[39m:\n",
      "File \u001b[1;32m~\\anaconda3\\Lib\\site-packages\\requests\\api.py:73\u001b[0m, in \u001b[0;36mget\u001b[1;34m(url, params, **kwargs)\u001b[0m\n\u001b[0;32m     62\u001b[0m \u001b[38;5;28;01mdef\u001b[39;00m \u001b[38;5;21mget\u001b[39m(url, params\u001b[38;5;241m=\u001b[39m\u001b[38;5;28;01mNone\u001b[39;00m, \u001b[38;5;241m*\u001b[39m\u001b[38;5;241m*\u001b[39mkwargs):\n\u001b[0;32m     63\u001b[0m \u001b[38;5;250m    \u001b[39m\u001b[38;5;124mr\u001b[39m\u001b[38;5;124;03m\"\"\"Sends a GET request.\u001b[39;00m\n\u001b[0;32m     64\u001b[0m \n\u001b[0;32m     65\u001b[0m \u001b[38;5;124;03m    :param url: URL for the new :class:`Request` object.\u001b[39;00m\n\u001b[1;32m   (...)\u001b[0m\n\u001b[0;32m     70\u001b[0m \u001b[38;5;124;03m    :rtype: requests.Response\u001b[39;00m\n\u001b[0;32m     71\u001b[0m \u001b[38;5;124;03m    \"\"\"\u001b[39;00m\n\u001b[1;32m---> 73\u001b[0m     \u001b[38;5;28;01mreturn\u001b[39;00m request(\u001b[38;5;124m\"\u001b[39m\u001b[38;5;124mget\u001b[39m\u001b[38;5;124m\"\u001b[39m, url, params\u001b[38;5;241m=\u001b[39mparams, \u001b[38;5;241m*\u001b[39m\u001b[38;5;241m*\u001b[39mkwargs)\n",
      "File \u001b[1;32m~\\anaconda3\\Lib\\site-packages\\requests\\api.py:59\u001b[0m, in \u001b[0;36mrequest\u001b[1;34m(method, url, **kwargs)\u001b[0m\n\u001b[0;32m     55\u001b[0m \u001b[38;5;66;03m# By using the 'with' statement we are sure the session is closed, thus we\u001b[39;00m\n\u001b[0;32m     56\u001b[0m \u001b[38;5;66;03m# avoid leaving sockets open which can trigger a ResourceWarning in some\u001b[39;00m\n\u001b[0;32m     57\u001b[0m \u001b[38;5;66;03m# cases, and look like a memory leak in others.\u001b[39;00m\n\u001b[0;32m     58\u001b[0m \u001b[38;5;28;01mwith\u001b[39;00m sessions\u001b[38;5;241m.\u001b[39mSession() \u001b[38;5;28;01mas\u001b[39;00m session:\n\u001b[1;32m---> 59\u001b[0m     \u001b[38;5;28;01mreturn\u001b[39;00m session\u001b[38;5;241m.\u001b[39mrequest(method\u001b[38;5;241m=\u001b[39mmethod, url\u001b[38;5;241m=\u001b[39murl, \u001b[38;5;241m*\u001b[39m\u001b[38;5;241m*\u001b[39mkwargs)\n",
      "File \u001b[1;32m~\\anaconda3\\Lib\\site-packages\\requests\\sessions.py:589\u001b[0m, in \u001b[0;36mSession.request\u001b[1;34m(self, method, url, params, data, headers, cookies, files, auth, timeout, allow_redirects, proxies, hooks, stream, verify, cert, json)\u001b[0m\n\u001b[0;32m    584\u001b[0m send_kwargs \u001b[38;5;241m=\u001b[39m {\n\u001b[0;32m    585\u001b[0m     \u001b[38;5;124m\"\u001b[39m\u001b[38;5;124mtimeout\u001b[39m\u001b[38;5;124m\"\u001b[39m: timeout,\n\u001b[0;32m    586\u001b[0m     \u001b[38;5;124m\"\u001b[39m\u001b[38;5;124mallow_redirects\u001b[39m\u001b[38;5;124m\"\u001b[39m: allow_redirects,\n\u001b[0;32m    587\u001b[0m }\n\u001b[0;32m    588\u001b[0m send_kwargs\u001b[38;5;241m.\u001b[39mupdate(settings)\n\u001b[1;32m--> 589\u001b[0m resp \u001b[38;5;241m=\u001b[39m \u001b[38;5;28mself\u001b[39m\u001b[38;5;241m.\u001b[39msend(prep, \u001b[38;5;241m*\u001b[39m\u001b[38;5;241m*\u001b[39msend_kwargs)\n\u001b[0;32m    591\u001b[0m \u001b[38;5;28;01mreturn\u001b[39;00m resp\n",
      "File \u001b[1;32m~\\anaconda3\\Lib\\site-packages\\requests\\sessions.py:703\u001b[0m, in \u001b[0;36mSession.send\u001b[1;34m(self, request, **kwargs)\u001b[0m\n\u001b[0;32m    700\u001b[0m start \u001b[38;5;241m=\u001b[39m preferred_clock()\n\u001b[0;32m    702\u001b[0m \u001b[38;5;66;03m# Send the request\u001b[39;00m\n\u001b[1;32m--> 703\u001b[0m r \u001b[38;5;241m=\u001b[39m adapter\u001b[38;5;241m.\u001b[39msend(request, \u001b[38;5;241m*\u001b[39m\u001b[38;5;241m*\u001b[39mkwargs)\n\u001b[0;32m    705\u001b[0m \u001b[38;5;66;03m# Total elapsed time of the request (approximately)\u001b[39;00m\n\u001b[0;32m    706\u001b[0m elapsed \u001b[38;5;241m=\u001b[39m preferred_clock() \u001b[38;5;241m-\u001b[39m start\n",
      "File \u001b[1;32m~\\anaconda3\\Lib\\site-packages\\requests\\adapters.py:519\u001b[0m, in \u001b[0;36mHTTPAdapter.send\u001b[1;34m(self, request, stream, timeout, verify, cert, proxies)\u001b[0m\n\u001b[0;32m    515\u001b[0m     \u001b[38;5;28;01mif\u001b[39;00m \u001b[38;5;28misinstance\u001b[39m(e\u001b[38;5;241m.\u001b[39mreason, _SSLError):\n\u001b[0;32m    516\u001b[0m         \u001b[38;5;66;03m# This branch is for urllib3 v1.22 and later.\u001b[39;00m\n\u001b[0;32m    517\u001b[0m         \u001b[38;5;28;01mraise\u001b[39;00m SSLError(e, request\u001b[38;5;241m=\u001b[39mrequest)\n\u001b[1;32m--> 519\u001b[0m     \u001b[38;5;28;01mraise\u001b[39;00m \u001b[38;5;167;01mConnectionError\u001b[39;00m(e, request\u001b[38;5;241m=\u001b[39mrequest)\n\u001b[0;32m    521\u001b[0m \u001b[38;5;28;01mexcept\u001b[39;00m ClosedPoolError \u001b[38;5;28;01mas\u001b[39;00m e:\n\u001b[0;32m    522\u001b[0m     \u001b[38;5;28;01mraise\u001b[39;00m \u001b[38;5;167;01mConnectionError\u001b[39;00m(e, request\u001b[38;5;241m=\u001b[39mrequest)\n",
      "\u001b[1;31mConnectionError\u001b[0m: HTTPConnectionPool(host='0.0.0.0', port=8050): Max retries exceeded with url: /_alive_fb1404d6-4668-4c7b-91db-02c1e452d39c (Caused by NewConnectionError('<urllib3.connection.HTTPConnection object at 0x00000260A3C51750>: Failed to establish a new connection: [WinError 10049] Требуемый адрес для своего контекста неверен'))"
     ]
    }
   ],
   "source": [
    "explainer = ClassifierExplainer(gs.best_estimator_, X_test_transformed, y_test)\n",
    "\n",
    "db = ExplainerDashboard(explainer)\n",
    "\n",
    "db.run()"
   ]
  },
  {
   "cell_type": "code",
   "execution_count": null,
   "id": "5fc34b50-da98-4a15-a819-289a49b18634",
   "metadata": {},
   "outputs": [],
   "source": []
  },
  {
   "cell_type": "markdown",
   "id": "95634e25-0f4e-4df2-ae81-ef48f3554470",
   "metadata": {},
   "source": [
    "# Выводы\n",
    "\n",
    "## 1. какие факторы наиболее важны в среднем для получения прогноза?\n",
    "ExplainerDashboard выбрал следющие топ-10 признаков: \n",
    "- 'Month_Nov'\n",
    "- 'TrafficType_2'\n",
    "- 'ExitRates'\n",
    "- 'Month_Dec'\n",
    "- 'OperatingSystems_2'\n",
    "- 'Administrative'\n",
    "- 'VisitorType_Returning_Visitor'\n",
    "- 'TrafficType_10'\n",
    "- 'ProductRelated'\n",
    "- 'OperatingSystems_5'\n",
    "\n",
    "По мнению ExplainerDashboard вероятность покупки выше в ноябре и декабре, для типа трафика \"2\" и \"10\", для возвращающихся пользователей, использующих операционные системы \"2\" и \"5\", на вероятность также влияют \"ExitRates\" и просмотры страниц \"Administrative\" и \"ProductRelated\".\n",
    "\n",
    "## 2. какие значения метрик получились и что это значит?\n",
    "- Accuracy: 0.675\n",
    "\n",
    "Точность у модели не очень низкая, но классы в данных не сбалансированы, и следующие далее показатели указывают, что модель не очень хорошо справляется с предсказанием положительного класса.\n",
    "- Precision: 0.287\n",
    "\n",
    "Модель выдает большое количество ложноположительных предсказаний, лишь 28% положительных предсказаний является истинно положительными.\n",
    "- Recall: 0.742\n",
    "\n",
    "Модель неплохо выделяет положительный класс - она распознала 74% от общего количества положительных случаев.\n",
    "- F1 Score: 0.414\n",
    "\n",
    "F1 - Гармоническое среднее между точностью и полнотой. Эта метрика используется для оценки баланса между Precision и Recall - низкое значение Precision снижает занчение F1.\n",
    "\n",
    "## 3. анализ 2-3 индивидуальных прогнозов с комментарием\n",
    "\n",
    " - Объект 1172 определяется моделью как класс 1 с вероятностью 88.6%. Самый большой вклад внесли следующие значения признаков:\n",
    "   \n",
    "| Reason | Effect |\n",
    "| --- | --- |\n",
    "| Average of population | 42.8% |\n",
    "| PageValues = 0.18672 | +8.24% |\n",
    "| Month_Nov = 1.0 | +7.46% |\n",
    "| TrafficType_2 = 1.0\t+4.58% |\n",
    "| BounceRates = 0.0174 | +3.39% |\n",
    "| Informational = 0.333 | +3.39% |\n",
    "\n",
    " - Объект 1461 определяется моделью как класс 0 с вероятностью 82.0%. Самый большой вклад внесли следующие значения признаков:\n",
    "   \n",
    "| Reason | Effect |\n",
    "| --- | --- |\n",
    "| Average of population | 42.8% |\n",
    "| TrafficType_13 = 1.0 | -18.52% |\n",
    "| Month_Nov = 1.0 | +6.73% |\n",
    "| OperatingSystems_3 = 1.0\t-6.47% |\n",
    "| BounceRates = 0.2 | -2.54% |\n",
    "\n",
    "   "
   ]
  },
  {
   "cell_type": "code",
   "execution_count": null,
   "id": "00113d52-03f5-4244-8b93-f5e778d8a738",
   "metadata": {},
   "outputs": [],
   "source": []
  },
  {
   "cell_type": "code",
   "execution_count": null,
   "id": "32aeee39-192a-4377-8a6c-f3d8fef1a985",
   "metadata": {},
   "outputs": [],
   "source": []
  },
  {
   "cell_type": "code",
   "execution_count": null,
   "id": "01c556cc-a970-40d3-8992-15680084b01d",
   "metadata": {},
   "outputs": [],
   "source": []
  },
  {
   "cell_type": "code",
   "execution_count": null,
   "id": "6da853c9-174c-4494-997e-5c974aeca9e3",
   "metadata": {},
   "outputs": [],
   "source": []
  },
  {
   "cell_type": "code",
   "execution_count": null,
   "id": "ea197b5f-5d19-4ec4-a3a5-33db11271875",
   "metadata": {},
   "outputs": [],
   "source": []
  }
 ],
 "metadata": {
  "kernelspec": {
   "display_name": "Python 3 (ipykernel)",
   "language": "python",
   "name": "python3"
  },
  "language_info": {
   "codemirror_mode": {
    "name": "ipython",
    "version": 3
   },
   "file_extension": ".py",
   "mimetype": "text/x-python",
   "name": "python",
   "nbconvert_exporter": "python",
   "pygments_lexer": "ipython3",
   "version": "3.11.5"
  }
 },
 "nbformat": 4,
 "nbformat_minor": 5
}
